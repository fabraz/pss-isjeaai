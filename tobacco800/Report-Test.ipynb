{
 "cells": [
  {
   "cell_type": "markdown",
   "metadata": {},
   "source": [
    "# Report ISJEAAI "
   ]
  },
  {
   "cell_type": "markdown",
   "metadata": {},
   "source": [
    "imports"
   ]
  },
  {
   "cell_type": "code",
   "execution_count": 3,
   "metadata": {},
   "outputs": [],
   "source": [
    "import re\n",
    "import json"
   ]
  },
  {
   "cell_type": "code",
   "execution_count": 4,
   "metadata": {},
   "outputs": [],
   "source": [
    "REPORT_FILE_PATH = './report_final.json'"
   ]
  },
  {
   "cell_type": "code",
   "execution_count": 5,
   "metadata": {},
   "outputs": [],
   "source": [
    "def reload():\n",
    "    try:\n",
    "        with open(REPORT_FILE_PATH) as json_file:\n",
    "            data = json.load(json_file)\n",
    "            data = {k: v for k, v in sorted(data.items(), key=lambda item: item[0])}\n",
    "        return data\n",
    "    except:\n",
    "        print(\"An exception occurred when trying to open %s\" % REPORT_FILE_PATH)\n",
    "        return []"
   ]
  },
  {
   "cell_type": "markdown",
   "metadata": {},
   "source": [
    "## Utils"
   ]
  },
  {
   "cell_type": "code",
   "execution_count": 6,
   "metadata": {},
   "outputs": [],
   "source": [
    "def get_experiment_metadata(key):\n",
    "    pattern = r\"^(\\w+)_input_(\\w+)_classes_(\\w+)_nn_(\\w+)$\"\n",
    "    match = re.match(pattern, key)\n",
    "    if match:\n",
    "        return [match[1], match[2], match[3], match[4]]\n",
    "    return [None, None, None, None]"
   ]
  },
  {
   "cell_type": "code",
   "execution_count": 32,
   "metadata": {},
   "outputs": [],
   "source": [
    "def generate_table(target_dataset):\n",
    "    data = reload()\n",
    "    table = '<html> <table> <tr>'\n",
    "    #table += '<th> dataset </th>'\n",
    "    table += '<th> model </th>'\n",
    "    table += '<th> pages </th>'\n",
    "    table += '<th> output </th>'\n",
    "    table += '<th> val accuracy </th>'    \n",
    "    table += '<th> val kappa </th>'        \n",
    "    #table += '<th> test accuracy </th>'    \n",
    "    #table += '<th> test kappa </th>'            \n",
    "    #table += '<th> f1-score </th>'\n",
    "    #table += '<th> f1 ND </th>'\n",
    "    #table += '<th> f1 SD </th>'    \n",
    "    table += '</tr>'\n",
    "\n",
    "    max_acc = -1\n",
    "    max_kappa = -1    \n",
    "    max_t_kappa = -1\n",
    "    max_t_acc = -1    \n",
    "    max_f1_score = -1\n",
    "    max_f1_score_FirstPage = -1\n",
    "    max_f1_score_NextPage = -1\n",
    "\n",
    "    max_t_kappa_exp = None\n",
    "    max_t_acc_exp = None    \n",
    "    max_acc_exp = None\n",
    "    max_kappa_exp = None\n",
    "    max_f1_score_exp = None\n",
    "    max_f1_score_FirstPage_exp = None\n",
    "    max_f1_score_NextPage_exp = None\n",
    "    \n",
    "    for key, value in data.items():\n",
    "        \n",
    "        dataset, pages, classes, model = get_experiment_metadata(key)       \n",
    "        if dataset != target_dataset:\n",
    "            continue\n",
    "        f1_score = 100*value[\"weighted avg\"][\"f1-score\"]\n",
    "        f1_score_FirstPage = 100*value['FirstPage']['f1-score']\n",
    "        f1_score_NextPage = 100*value['NextPage']['f1-score']        \n",
    "        acc = 100*value[\"valid_acc\"]\n",
    "        kappa = 100*value[\"valid_kappa\"]\n",
    "        tacc = 100*value[\"test_acc\"]\n",
    "        tkappa = 100*value[\"test_kappa\"]        \n",
    "\n",
    "        if f1_score_FirstPage > max_f1_score_FirstPage:\n",
    "            max_f1_score_FirstPage = f1_score_FirstPage\n",
    "            max_f1_score_FirstPage_exp = key\n",
    "        if f1_score_NextPage > max_f1_score_NextPage:\n",
    "            max_f1_score_NextPage = f1_score_NextPage\n",
    "            max_f1_score_NextPage_exp = key\n",
    "        if f1_score > max_f1_score:\n",
    "            max_f1_score = f1_score\n",
    "            max_f1_score_exp = key            \n",
    "        if acc > max_acc:\n",
    "            max_acc = acc\n",
    "            max_acc_exp = key\n",
    "        if kappa > max_kappa:\n",
    "            max_kappa = kappa\n",
    "            max_kappa_exp = key\n",
    "        if tacc > max_t_acc:\n",
    "            max_t_acc = tacc\n",
    "            max_t_acc_exp = key\n",
    "        if tkappa > max_t_kappa:\n",
    "            max_t_kappa = tkappa\n",
    "            max_t_kappa_exp = key\n",
    "\n",
    "    for key, value in data.items():\n",
    "\n",
    "        f1_score = 100*value[\"weighted avg\"][\"f1-score\"]\n",
    "        f1_score_FirstPage = 100*value['FirstPage']['f1-score']\n",
    "        f1_score_NextPage = 100*value['NextPage']['f1-score']        \n",
    "        acc = 100*value[\"valid_acc\"]\n",
    "        kappa = 100*value[\"valid_kappa\"]\n",
    "        tacc = 100*value[\"test_acc\"]\n",
    "        tkappa = 100*value[\"test_kappa\"]        \n",
    "\n",
    "        diff_f1 = max_f1_score - f1_score \n",
    "        dfff_f1_FirstPage = max_f1_score_FirstPage  - f1_score_FirstPage\n",
    "        diff_f1_NextPage = max_f1_score_NextPage - f1_score_NextPage\n",
    "        diff_acc = max_acc - acc\n",
    "        diff_kappa = max_kappa - kappa\n",
    "        diff_tacc = max_t_acc - tacc\n",
    "        diff_tkappa = max_t_kappa - tkappa\n",
    "        \n",
    "        diff_f1 = f'({diff_f1:.1f})' if diff_f1 > 0 else ''\n",
    "        dfff_f1_FirstPage = f'({dfff_f1_FirstPage:.1f})' if dfff_f1_FirstPage > 0 else ''\n",
    "        diff_f1_NextPage = f'({diff_f1_NextPage:.1f})' if diff_f1_NextPage > 0 else ''\n",
    "        diff_acc = f'({diff_acc:.1f})' if diff_acc > 0 else ''\n",
    "        diff_kappa = f'({diff_kappa:.1f})' if diff_kappa > 0 else ''\n",
    "        diff_tacc = f'({diff_tacc:.1f})' if diff_tacc > 0 else ''\n",
    "        diff_tkappa = f'({diff_tkappa:.1f})' if diff_tkappa > 0 else ''\n",
    "        \n",
    "\n",
    "        dataset, pages, classes, model = get_experiment_metadata(key)       \n",
    "        if dataset != target_dataset:\n",
    "            continue\n",
    "\n",
    "        table += '<tr>'\n",
    "        #table += f'<td> {dataset} </td>'\n",
    "        table += f'<td> {model} </td>'\n",
    "        table += f'<td> {pages} </td>'\n",
    "        table += f'<td> {classes} </td>'\n",
    "        table += '<td>' + ('<strong>' if max_acc_exp == key else '' ) + f'{acc:.1f}{diff_acc}%'  + ('</strong>' if max_acc_exp == key else '') +'</td>'            \n",
    "        table += '<td>' + ('<strong>' if max_kappa_exp == key else '' ) + f'{kappa:.1f}{diff_kappa}%' + ('</strong>' if max_kappa_exp == key else '') +'</td>'        \n",
    "        #table += '<td>' + ('<strong>' if max_t_acc_exp == key else '' ) + f'{tacc:.1f}{diff_tacc}%'  + ('</strong>' if max_t_acc_exp == key else '') +'</td>'            \n",
    "        #table += '<td>' + ('<strong>' if max_t_kappa_exp == key else '' ) + f'{tkappa:.1f}{diff_tkappa}%' + ('</strong>' if max_t_kappa_exp == key else '') +'</td>'                \n",
    "        #table += '<td>' + ('<strong>' if max_f1_score_exp == key else '' ) + f'{f1_score:.1f}{diff_f1}%' + ('</strong>' if max_f1_score_exp == key else '') +'</td>'        \n",
    "        #table += '<td>' + ('<strong>' if max_f1_score_FirstPage_exp == key else '' ) + f'{f1_score_FirstPage:.1f}{dfff_f1_FirstPage}%' + ('</strong>' if max_f1_score_FirstPage_exp == key else '') +'</td>'        \n",
    "        #table += '<td>' + ('<strong>' if max_f1_score_NextPage_exp == key else '' ) + f'{f1_score_NextPage:.1f}{diff_f1_NextPage}%' + ('</strong>' if max_f1_score_NextPage_exp == key else '') +'</td>'                \n",
    "        table += '</tr>'  \n",
    "\n",
    "    table+= '</table></html>'\n",
    "    return table"
   ]
  },
  {
   "cell_type": "code",
   "execution_count": 34,
   "metadata": {},
   "outputs": [
    {
     "name": "stdout",
     "output_type": "stream",
     "text": [
      "<html> <table> <tr><th> model </th><th> pages </th><th> output </th><th> val accuracy </th><th> val kappa </th></tr><tr><td> VGG16 </td><td> 1 </td><td> 2 </td><td>80.4(0.9)%</td><td>54.8(9.5)%</td></tr><tr><td> effnetB0 </td><td> 1 </td><td> 2 </td><td>67.4(13.8)%</td><td>25.2(39.1)%</td></tr><tr><td> VGG16 </td><td> 2 </td><td> 2 </td><td>79.9(1.3)%</td><td>52.8(11.5)%</td></tr><tr><td> effnetB0 </td><td> 2 </td><td> 2 </td><td>74.1(7.1)%</td><td>44.8(19.5)%</td></tr><tr><td> VGG16 </td><td> 3 </td><td> 2 </td><td>79.9(1.3)%</td><td>56.2(8.1)%</td></tr><tr><td> effnetB0 </td><td> 3 </td><td> 2 </td><td>71.4(9.8)%</td><td>42.9(21.4)%</td></tr><tr><td> VGG16 </td><td> 3 </td><td> 4 </td><td><strong>81.2%</strong></td><td><strong>64.3%</strong></td></tr><tr><td> effnetB0 </td><td> 3 </td><td> 4 </td><td>76.8(4.5)%</td><td>51.6(12.7)%</td></tr></table></html>\n"
     ]
    }
   ],
   "source": [
    "print(generate_table('tobacco800'))"
   ]
  },
  {
   "cell_type": "markdown",
   "metadata": {},
   "source": [
    "## Tobacco800 - Resultado\n",
    "\n",
    "\n",
    "## VALIDATION\n",
    "\n",
    "<html> <table> <tr><th> model </th><th> pages </th><th> output </th><th> val accuracy </th><th> val kappa </th></tr><tr><td> VGG16 </td><td> 1 </td><td> 2 </td><td>80.4(0.9)%</td><td>54.8(9.5)%</td></tr><tr><td> effnetB0 </td><td> 1 </td><td> 2 </td><td>67.4(13.8)%</td><td>25.2(39.1)%</td></tr><tr><td> VGG16 </td><td> 2 </td><td> 2 </td><td>79.9(1.3)%</td><td>52.8(11.5)%</td></tr><tr><td> effnetB0 </td><td> 2 </td><td> 2 </td><td>74.1(7.1)%</td><td>44.8(19.5)%</td></tr><tr><td> VGG16 </td><td> 3 </td><td> 2 </td><td>79.9(1.3)%</td><td>56.2(8.1)%</td></tr><tr><td> effnetB0 </td><td> 3 </td><td> 2 </td><td>71.4(9.8)%</td><td>42.9(21.4)%</td></tr><tr><td> VGG16 </td><td> 3 </td><td> 4 </td><td><strong>81.2%</strong></td><td><strong>64.3%</strong></td></tr><tr><td> effnetB0 </td><td> 3 </td><td> 4 </td><td>76.8(4.5)%</td><td>51.6(12.7)%</td></tr></table></html>\n",
    "\n",
    "## test set\n",
    "<html> <table> <tr><th> model </th><th> pages </th><th> output </th><th> test accuracy </th><th> test kappa </th><th> f1-score </th><th> f1 ND </th><th> f1 SD </th></tr><tr><td> VGG16 </td><td> 1 </td><td> 2 </td><td>87.8(4.2)%</td><td>74.5(9.1)%</td><td>86.3(4.8)%</td><td>89.0(3.7)%</td><td>82.6(6.7)%</td></tr><tr><td> effnetB0 </td><td> 1 </td><td> 2 </td><td>69.2(22.8)%</td><td>38.8(44.7)%</td><td>69.7(21.4)%</td><td>71.3(21.4)%</td><td>67.5(21.8)%</td></tr><tr><td> VGG16 </td><td> 2 </td><td> 2 </td><td>89.6(2.4)%</td><td>78.3(5.3)%</td><td>88.3(2.8)%</td><td>90.4(2.2)%</td><td>85.3(4.0)%</td></tr><tr><td> effnetB0 </td><td> 2 </td><td> 2 </td><td>79.9(12.2)%</td><td>58.2(25.4)%</td><td>77.5(13.6)%</td><td>80.9(11.7)%</td><td>72.9(16.4)%</td></tr><tr><td> VGG16 </td><td> 3 </td><td> 2 </td><td><strong>92.0%</strong></td><td><strong>83.6%</strong></td><td><strong>91.1%</strong></td><td>92.4(0.2)%</td><td><strong>89.3%</strong></td></tr><tr><td> effnetB0 </td><td> 3 </td><td> 2 </td><td>83.7(8.3)%</td><td>67.0(16.5)%</td><td>81.9(9.2)%</td><td>84.3(8.4)%</td><td>78.5(10.8)%</td></tr><tr><td> VGG16 </td><td> 3 </td><td> 4 </td><td>92.0%</td><td>83.4(0.2)%</td><td>91.1(0.0)%</td><td><strong>92.7%</strong></td><td>88.8(0.5)%</td></tr><tr><td> effnetB0 </td><td> 3 </td><td> 4 </td><td>86.1(5.9)%</td><td>70.2(13.3)%</td><td>84.5(6.6)%</td><td>87.2(5.5)%</td><td>80.6(8.7)%</td></tr></table></html>"
   ]
  },
  {
   "cell_type": "code",
   "execution_count": 66,
   "metadata": {},
   "outputs": [
    {
     "name": "stdout",
     "output_type": "stream",
     "text": [
      "<html> <table> <tr><th> model </th><th> pages </th><th> output </th><th> test accuracy </th><th> test kappa </th><th> f1-score </th><th> f1 FP </th><th> f1 NP </th></tr><tr><td> VGG16 </td><td> 1 </td><td> 2 </td><td>0.816</td><td>0.539</td><td>0.799</td><td>0.595</td><td>0.857</td></tr><tr><td> effnetB0_POS_11Block </td><td> 1 </td><td> 2 </td><td>0.929</td><td>0.715</td><td>0.930</td><td>0.805</td><td>0.957</td></tr><tr><td> VGG16 </td><td> 2 </td><td> 2 </td><td>0.958</td><td>0.837</td><td>0.959</td><td>0.889</td><td>0.974</td></tr><tr><td> effnetB0 </td><td> 2 </td><td> 2 </td><td>0.954</td><td>0.825</td><td>0.954</td><td>0.871</td><td>0.972</td></tr><tr><td> VGG16 </td><td> 3 </td><td> 2 </td><td><strong>0.966</strong></td><td>0.850</td><td>0.966</td><td>0.905</td><td><strong>0.979</strong></td></tr><tr><td> effnetB0_14_FREEZE_BATCH </td><td> 3 </td><td> 2 </td><td>0.957</td><td>0.825</td><td>0.957</td><td>0.879</td><td>0.974</td></tr><tr><td> VGG16_PRE_REVIEWLABELSPLIT </td><td> 3 </td><td> 4 </td><td>0.966</td><td><strong>0.862</strong></td><td><strong>0.966</strong></td><td><strong>0.907</strong></td><td>0.979</td></tr><tr><td> effnetB0_14_FREEZE_BATCH_FT_VAL </td><td> 3 </td><td> 4 </td><td>0.956</td><td>0.829</td><td>0.956</td><td>0.877</td><td>0.973</td></tr></table></html>\n"
     ]
    }
   ],
   "source": [
    "print(generate_table('ai_lab_splitter'))"
   ]
  },
  {
   "cell_type": "markdown",
   "metadata": {},
   "source": [
    "<html> <table> <tr><th> model </th><th> pages </th><th> output </th><th> test accuracy </th><th> test kappa </th><th> f1-score </th><th> f1 ND </th><th> f1 SD </th></tr><tr><td> VGG16 </td><td> 1 </td><td> 2 </td><td>87.8(4.2)%</td><td>74.5(9.1)%</td><td>86.3(4.8)%</td><td>89.0(3.7)%</td><td>82.6(6.7)%</td></tr><tr><td> effnetB0_14_FREEZE_BATCH_PRE_VALID </td><td> 1 </td><td> 2 </td><td>69.2(22.8)%</td><td>38.8(44.7)%</td><td>69.7(21.4)%</td><td>71.3(21.4)%</td><td>67.5(21.8)%</td></tr><tr><td> VGG16 </td><td> 2 </td><td> 2 </td><td>89.6(2.4)%</td><td>78.3(5.3)%</td><td>88.3(2.8)%</td><td>90.4(2.2)%</td><td>85.3(4.0)%</td></tr><tr><td> effnetB0 </td><td> 2 </td><td> 2 </td><td>79.9(12.2)%</td><td>58.2(25.4)%</td><td>77.5(13.6)%</td><td>80.9(11.7)%</td><td>72.9(16.4)%</td></tr><tr><td> VGG16 </td><td> 3 </td><td> 2 </td><td><strong>92.0%</strong></td><td><strong>83.6%</strong></td><td><strong>91.1%</strong></td><td>92.4(0.2)%</td><td><strong>89.3%</strong></td></tr><tr><td> effnetB0 </td><td> 3 </td><td> 2 </td><td>83.7(8.3)%</td><td>67.0(16.5)%</td><td>81.9(9.2)%</td><td>84.3(8.4)%</td><td>78.5(10.8)%</td></tr><tr><td> VGG16_PRE_SHUFFLEOFF </td><td> 3 </td><td> 4 </td><td>92.0%</td><td>83.4(0.2)%</td><td>91.1(0.0)%</td><td><strong>92.7%</strong></td><td>88.8(0.5)%</td></tr><tr><td> effnetB0_FT_Layer11 </td><td> 3 </td><td> 4 </td><td>86.1(5.9)%</td><td>70.2(13.3)%</td><td>84.5(6.6)%</td><td>87.2(5.5)%</td><td>80.6(8.7)%</td></tr></table></html"
   ]
  },
  {
   "cell_type": "markdown",
   "metadata": {},
   "source": []
  }
 ],
 "metadata": {
  "kernelspec": {
   "display_name": "Python 3",
   "language": "python",
   "name": "python3"
  },
  "language_info": {
   "codemirror_mode": {
    "name": "ipython",
    "version": 3
   },
   "file_extension": ".py",
   "mimetype": "text/x-python",
   "name": "python",
   "nbconvert_exporter": "python",
   "pygments_lexer": "ipython3",
   "version": "3.8.5"
  }
 },
 "nbformat": 4,
 "nbformat_minor": 4
}
