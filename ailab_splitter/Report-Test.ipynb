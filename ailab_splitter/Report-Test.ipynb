{
 "cells": [
  {
   "cell_type": "markdown",
   "metadata": {},
   "source": [
    "# Report ISJEAAI "
   ]
  },
  {
   "cell_type": "markdown",
   "metadata": {},
   "source": [
    "imports"
   ]
  },
  {
   "cell_type": "code",
   "execution_count": 56,
   "metadata": {},
   "outputs": [],
   "source": [
    "import re\n",
    "import json"
   ]
  },
  {
   "cell_type": "code",
   "execution_count": 57,
   "metadata": {},
   "outputs": [],
   "source": [
    "REPORT_FILE_PATH = './report_final.json'"
   ]
  },
  {
   "cell_type": "code",
   "execution_count": 58,
   "metadata": {},
   "outputs": [],
   "source": [
    "def reload():\n",
    "    try:\n",
    "        with open(REPORT_FILE_PATH) as json_file:\n",
    "            data = json.load(json_file)\n",
    "            data = {k: v for k, v in sorted(data.items(), key=lambda item: item[0])}\n",
    "        return data\n",
    "    except:\n",
    "        print(\"An exception occurred when trying to open %s\" % REPORT_FILE_PATH)\n",
    "        return []"
   ]
  },
  {
   "cell_type": "markdown",
   "metadata": {},
   "source": [
    "## Utils"
   ]
  },
  {
   "cell_type": "code",
   "execution_count": 59,
   "metadata": {},
   "outputs": [],
   "source": [
    "def get_experiment_metadata(key):\n",
    "    pattern = r\"^(\\w+)_input_(\\w+)_classes_(\\w+)_nn_(\\w+)$\"\n",
    "    match = re.match(pattern, key)\n",
    "    if match:\n",
    "        return [match[1], match[2], match[3], match[4]]\n",
    "    return [None, None, None, None]"
   ]
  },
  {
   "cell_type": "code",
   "execution_count": 69,
   "metadata": {},
   "outputs": [],
   "source": [
    "def generate_table(target_dataset):\n",
    "    data = reload()\n",
    "    table = '<html> <table> <tr>'\n",
    "    #table += '<th> dataset </th>'\n",
    "    table += '<th> model </th>'\n",
    "    table += '<th> pages </th>'\n",
    "    table += '<th> output </th>'\n",
    "    #table += '<th> val accuracy </th>'    \n",
    "    #table += '<th> val kappa </th>'        \n",
    "    table += '<th> test accuracy </th>'    \n",
    "    table += '<th> test kappa </th>'            \n",
    "    table += '<th> f1-score </th>'\n",
    "    table += '<th> f1 ND </th>'\n",
    "    table += '<th> f1 SD </th>'    \n",
    "    table += '</tr>'\n",
    "\n",
    "    max_acc = -1\n",
    "    max_kappa = -1    \n",
    "    max_t_kappa = -1\n",
    "    max_t_acc = -1    \n",
    "    max_f1_score = -1\n",
    "    max_f1_score_FirstPage = -1\n",
    "    max_f1_score_NextPage = -1\n",
    "\n",
    "    max_t_kappa_exp = None\n",
    "    max_t_acc_exp = None    \n",
    "    max_acc_exp = None\n",
    "    max_kappa_exp = None\n",
    "    max_f1_score_exp = None\n",
    "    max_f1_score_FirstPage_exp = None\n",
    "    max_f1_score_NextPage_exp = None\n",
    "    \n",
    "    for key, value in data.items():\n",
    "        \n",
    "        dataset, pages, classes, model = get_experiment_metadata(key)       \n",
    "        if dataset != target_dataset:\n",
    "            continue\n",
    "        f1_score = 100*value[\"weighted avg\"][\"f1-score\"]\n",
    "        f1_score_FirstPage = 100*value['ND']['f1-score']\n",
    "        f1_score_NextPage = 100*value['SD']['f1-score']        \n",
    "        acc = 100*value[\"valid_acc\"]\n",
    "        kappa = 100*value[\"valid_kappa\"]\n",
    "        tacc = 100*value[\"test_acc\"]\n",
    "        tkappa = 100*value[\"test_kappa\"]        \n",
    "\n",
    "        if f1_score_FirstPage > max_f1_score_FirstPage:\n",
    "            max_f1_score_FirstPage = f1_score_FirstPage\n",
    "            max_f1_score_FirstPage_exp = key\n",
    "        if f1_score_NextPage > max_f1_score_NextPage:\n",
    "            max_f1_score_NextPage = f1_score_NextPage\n",
    "            max_f1_score_NextPage_exp = key\n",
    "        if f1_score > max_f1_score:\n",
    "            max_f1_score = f1_score\n",
    "            max_f1_score_exp = key            \n",
    "        if acc > max_acc:\n",
    "            max_acc = acc\n",
    "            max_acc_exp = key\n",
    "        if kappa > max_kappa:\n",
    "            max_kappa = kappa\n",
    "            max_kappa_exp = key\n",
    "        if tacc > max_t_acc:\n",
    "            max_t_acc = tacc\n",
    "            max_t_acc_exp = key\n",
    "        if tkappa > max_t_kappa:\n",
    "            max_t_kappa = tkappa\n",
    "            max_t_kappa_exp = key\n",
    "\n",
    "    for key, value in data.items():\n",
    "\n",
    "        f1_score = 100*value[\"weighted avg\"][\"f1-score\"]\n",
    "        f1_score_FirstPage = 100*value['ND']['f1-score']\n",
    "        f1_score_NextPage = 100*value['SD']['f1-score']        \n",
    "        acc = 100*value[\"valid_acc\"]\n",
    "        kappa = 100*value[\"valid_kappa\"]\n",
    "        tacc = 100*value[\"test_acc\"]\n",
    "        tkappa = 100*value[\"test_kappa\"]        \n",
    "\n",
    "        diff_f1 = max_f1_score - f1_score \n",
    "        dfff_f1_FirstPage = max_f1_score_FirstPage  - f1_score_FirstPage\n",
    "        diff_f1_NextPage = max_f1_score_NextPage - f1_score_NextPage\n",
    "        diff_acc = max_acc - acc\n",
    "        diff_kappa = max_kappa - kappa\n",
    "        diff_tacc = max_t_acc - tacc\n",
    "        diff_tkappa = max_t_kappa - tkappa\n",
    "        \n",
    "        diff_f1 = f'({diff_f1:.1f})' if diff_f1 > 0 else ''\n",
    "        dfff_f1_FirstPage = f'({dfff_f1_FirstPage:.1f})' if dfff_f1_FirstPage > 0 else ''\n",
    "        diff_f1_NextPage = f'({diff_f1_NextPage:.1f})' if diff_f1_NextPage > 0 else ''\n",
    "        diff_acc = f'({diff_acc:.1f})' if diff_acc > 0 else ''\n",
    "        diff_kappa = f'({diff_kappa:.1f})' if diff_kappa > 0 else ''\n",
    "        diff_tacc = f'({diff_tacc:.1f})' if diff_tacc > 0 else ''\n",
    "        diff_tkappa = f'({diff_tkappa:.1f})' if diff_tkappa > 0 else ''\n",
    "\n",
    "        dataset, pages, classes, model = get_experiment_metadata(key)       \n",
    "        if dataset != target_dataset:\n",
    "            continue\n",
    "\n",
    "        table += '<tr>'\n",
    "        #table += f'<td> {dataset} </td>'\n",
    "        table += f'<td> {model} </td>'\n",
    "        table += f'<td> {pages} </td>'\n",
    "        table += f'<td> {classes} </td>'\n",
    "        #table += '<td>' + ('<strong>' if max_acc_exp == key else '' ) + f'{acc:.1f}{diff_acc}%'  + ('</strong>' if max_acc_exp == key else '') +'</td>'            \n",
    "        #table += '<td>' + ('<strong>' if max_kappa_exp == key else '' ) + f'{kappa:.1f}{diff_kappa}%' + ('</strong>' if max_kappa_exp == key else '') +'</td>'        \n",
    "        table += '<td>' + ('<strong>' if max_t_acc_exp == key else '' ) + f'{tacc:.1f}{diff_tacc}%'  + ('</strong>' if max_t_acc_exp == key else '') +'</td>'            \n",
    "        table += '<td>' + ('<strong>' if max_t_kappa_exp == key else '' ) + f'{tkappa:.1f}{diff_tkappa}%' + ('</strong>' if max_t_kappa_exp == key else '') +'</td>'                \n",
    "        table += '<td>' + ('<strong>' if max_f1_score_exp == key else '' ) + f'{f1_score:.1f}{diff_f1}%' + ('</strong>' if max_f1_score_exp == key else '') +'</td>'        \n",
    "        table += '<td>' + ('<strong>' if max_f1_score_FirstPage_exp == key else '' ) + f'{f1_score_FirstPage:.1f}{dfff_f1_FirstPage}%' + ('</strong>' if max_f1_score_FirstPage_exp == key else '') +'</td>'        \n",
    "        table += '<td>' + ('<strong>' if max_f1_score_NextPage_exp == key else '' ) + f'{f1_score_NextPage:.1f}{diff_f1_NextPage}%' + ('</strong>' if max_f1_score_NextPage_exp == key else '') +'</td>'                \n",
    "        table += '</tr>'\n",
    "    table+= '</table></html>'\n",
    "    return table"
   ]
  },
  {
   "cell_type": "code",
   "execution_count": 61,
   "metadata": {},
   "outputs": [
    {
     "name": "stdout",
     "output_type": "stream",
     "text": [
      "<html> <table> <tr><th> model </th><th> pages </th><th> output </th><th> val accuracy </th><th> val kappa </th></tr></table></html>\n"
     ]
    }
   ],
   "source": [
    "print(generate_table('tobacco800'))"
   ]
  },
  {
   "cell_type": "code",
   "execution_count": 70,
   "metadata": {},
   "outputs": [
    {
     "name": "stdout",
     "output_type": "stream",
     "text": [
      "<html> <table> <tr><th> model </th><th> pages </th><th> output </th><th> test accuracy </th><th> test kappa </th><th> f1-score </th><th> f1 ND </th><th> f1 SD </th></tr><tr><td> VGG16 </td><td> 1 </td><td> 2 </td><td>86.3(8.9)%</td><td>67.6(14.2)%</td><td>84.8(10.5)%</td><td>69.7(16.4)%</td><td>90.6(6.6)%</td></tr><tr><td> effnetB0 </td><td> 1 </td><td> 2 </td><td>88.4(6.8)%</td><td>67.5(14.3)%</td><td>89.0(6.3)%</td><td>70.5(15.6)%</td><td>92.8(4.4)%</td></tr><tr><td> VGG16 </td><td> 2 </td><td> 2 </td><td>92.4(2.8)%</td><td>80.1(1.6)%</td><td>92.7(2.6)%</td><td>79.8(6.3)%</td><td>95.4(1.9)%</td></tr><tr><td> effnetB0 </td><td> 2 </td><td> 2 </td><td>95.0(0.2)%</td><td>80.7(1.1)%</td><td>95.1(0.2)%</td><td>85.3(0.8)%</td><td>97.1(0.1)%</td></tr><tr><td> VGG16 </td><td> 3 </td><td> 2 </td><td>90.7(4.5)%</td><td>74.7(7.0)%</td><td>91.1(4.2)%</td><td>75.8(10.3)%</td><td>94.3(3.0)%</td></tr><tr><td> effnetB0 </td><td> 3 </td><td> 2 </td><td>94.1(1.1)%</td><td>79.4(2.4)%</td><td>94.3(1.1)%</td><td>82.5(3.6)%</td><td>96.7(0.6)%</td></tr><tr><td> VGG16 </td><td> 3 </td><td> 4 </td><td>91.1(4.1)%</td><td>77.9(3.9)%</td><td>91.5(3.8)%</td><td>77.2(8.9)%</td><td>94.5(2.8)%</td></tr><tr><td> effnetB0 </td><td> 3 </td><td> 4 </td><td><strong>95.2%</strong></td><td><strong>81.8%</strong></td><td><strong>95.3%</strong></td><td><strong>86.1%</strong></td><td><strong>97.2%</strong></td></tr></table></html>\n"
     ]
    }
   ],
   "source": [
    "print(generate_table('ai_lab_splitter'))"
   ]
  },
  {
   "cell_type": "markdown",
   "metadata": {},
   "source": [
    "<html> <table> <tr><th> model </th><th> pages </th><th> output </th><th> val accuracy </th><th> val kappa </th></tr><tr><td> VGG16 </td><td> 1 </td><td> 2 </td><td>85.7(3.9)%</td><td>66.2(10.3)%</td></tr><tr><td> effnetB0 </td><td> 1 </td><td> 2 </td><td>83.8(5.8)%</td><td>62.0(14.5)%</td></tr><tr><td> VGG16 </td><td> 2 </td><td> 2 </td><td>87.7(1.9)%</td><td>75.6(0.9)%</td></tr><tr><td> effnetB0 </td><td> 2 </td><td> 2 </td><td>88.7(0.9)%</td><td>74.1(2.3)%</td></tr><tr><td> VGG16 </td><td> 3 </td><td> 2 </td><td>89.1(0.6)%</td><td>73.3(3.2)%</td></tr><tr><td> effnetB0 </td><td> 3 </td><td> 2 </td><td>88.6(1.0)%</td><td>73.7(2.8)%</td></tr><tr><td> VGG16 </td><td> 3 </td><td> 4 </td><td><strong>89.6%</strong></td><td>75.0(1.5)%</td></tr><tr><td> effnetB0 </td><td> 3 </td><td> 4 </td><td>88.7(0.9)%</td><td><strong>76.5%</strong></td></tr></table></html>"
   ]
  },
  {
   "cell_type": "markdown",
   "metadata": {},
   "source": [
    "<html> <table> <tr><th> model </th><th> pages </th><th> output </th><th> test accuracy </th><th> test kappa </th><th> f1-score </th><th> f1 ND </th><th> f1 SD </th></tr><tr><td> VGG16 </td><td> 1 </td><td> 2 </td><td>86.3(8.9)%</td><td>67.6(14.2)%</td><td>84.8(10.5)%</td><td>69.7(16.4)%</td><td>90.6(6.6)%</td></tr><tr><td> effnetB0 </td><td> 1 </td><td> 2 </td><td>88.4(6.8)%</td><td>67.5(14.3)%</td><td>89.0(6.3)%</td><td>70.5(15.6)%</td><td>92.8(4.4)%</td></tr><tr><td> VGG16 </td><td> 2 </td><td> 2 </td><td>92.4(2.8)%</td><td>80.1(1.6)%</td><td>92.7(2.6)%</td><td>79.8(6.3)%</td><td>95.4(1.9)%</td></tr><tr><td> effnetB0 </td><td> 2 </td><td> 2 </td><td>95.0(0.2)%</td><td>80.7(1.1)%</td><td>95.1(0.2)%</td><td>85.3(0.8)%</td><td>97.1(0.1)%</td></tr><tr><td> VGG16 </td><td> 3 </td><td> 2 </td><td>90.7(4.5)%</td><td>74.7(7.0)%</td><td>91.1(4.2)%</td><td>75.8(10.3)%</td><td>94.3(3.0)%</td></tr><tr><td> effnetB0 </td><td> 3 </td><td> 2 </td><td>94.1(1.1)%</td><td>79.4(2.4)%</td><td>94.3(1.1)%</td><td>82.5(3.6)%</td><td>96.7(0.6)%</td></tr><tr><td> VGG16 </td><td> 3 </td><td> 4 </td><td>91.1(4.1)%</td><td>77.9(3.9)%</td><td>91.5(3.8)%</td><td>77.2(8.9)%</td><td>94.5(2.8)%</td></tr><tr><td> effnetB0 </td><td> 3 </td><td> 4 </td><td><strong>95.2%</strong></td><td><strong>81.8%</strong></td><td><strong>95.3%</strong></td><td><strong>86.1%</strong></td><td><strong>97.2%</strong></td></tr></table></html>"
   ]
  },
  {
   "cell_type": "code",
   "execution_count": null,
   "metadata": {},
   "outputs": [],
   "source": []
  },
  {
   "cell_type": "code",
   "execution_count": null,
   "metadata": {},
   "outputs": [],
   "source": []
  }
 ],
 "metadata": {
  "kernelspec": {
   "display_name": "Python 3",
   "language": "python",
   "name": "python3"
  },
  "language_info": {
   "codemirror_mode": {
    "name": "ipython",
    "version": 3
   },
   "file_extension": ".py",
   "mimetype": "text/x-python",
   "name": "python",
   "nbconvert_exporter": "python",
   "pygments_lexer": "ipython3",
   "version": "3.8.5"
  }
 },
 "nbformat": 4,
 "nbformat_minor": 4
}
