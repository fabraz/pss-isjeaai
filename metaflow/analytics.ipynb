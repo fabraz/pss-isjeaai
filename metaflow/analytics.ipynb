{
 "cells": [
  {
   "cell_type": "code",
   "execution_count": 4,
   "metadata": {},
   "outputs": [],
   "source": [
    "from metaflow import Metaflow, Flow, get_metadata,Run,metadata\n",
    "latest_run = Flow('PSSExperimentationFlow').latest_successful_run"
   ]
  },
  {
   "cell_type": "code",
   "execution_count": 5,
   "metadata": {},
   "outputs": [],
   "source": [
    "import reporting_util\n",
    "analytics = latest_run.data.history "
   ]
  },
  {
   "cell_type": "code",
   "execution_count": 7,
   "metadata": {},
   "outputs": [],
   "source": [
    "models = latest_run.data.models"
   ]
  },
  {
   "cell_type": "code",
   "execution_count": 10,
   "metadata": {
    "tags": [
     "outputPrepend",
     "outputPrepend"
    ]
   },
   "outputs": [
    {
     "data": {
      "application/vnd.plotly.v1+json": {
       "config": {
        "plotlyServerURL": "https://plot.ly"
       },
       "data": [
        {
         "line": {
          "width": 1
         },
         "name": "VGG16 page_1 class_2_train",
         "opacity": 0.8,
         "type": "scatter",
         "x": [
          1,
          2,
          3,
          4,
          5,
          6,
          7,
          8,
          9,
          10
         ],
         "xaxis": "x",
         "y": [
          0.6812294102133125,
          0.593948706590577,
          0.5081354826077898,
          0.43970917774415924,
          0.4158972274385366,
          0.39875793442716717,
          0.3815911030415022,
          0.37243000384381014,
          0.3703258044975899,
          0.35536670333269044
         ],
         "yaxis": "y"
        },
        {
         "line": {
          "width": 1
         },
         "name": "VGG16 page_1 class_2",
         "opacity": 0.8,
         "type": "scatter",
         "x": [
          1,
          2,
          3,
          4,
          5,
          6,
          7,
          8,
          9,
          10
         ],
         "xaxis": "x13",
         "y": [
          0.6812294102133125,
          0.593948706590577,
          0.5081354826077898,
          0.43970917774415924,
          0.4158972274385366,
          0.39875793442716717,
          0.3815911030415022,
          0.37243000384381014,
          0.3703258044975899,
          0.35536670333269044
         ],
         "yaxis": "y13"
        },
        {
         "line": {
          "width": 1
         },
         "name": "VGG16 page_1 class_4_train",
         "opacity": 0.8,
         "type": "scatter",
         "x": [
          1,
          2,
          3,
          4,
          5,
          6,
          7,
          8,
          9,
          10
         ],
         "xaxis": "x2",
         "y": [
          1.3706587050361148,
          1.2868993890776583,
          1.2010422639899618,
          1.1237710863911636,
          1.073690286939971,
          1.0417990286329064,
          1.0016616113617993,
          0.937355586158443,
          0.9143929005535735,
          0.8859517200568287
         ],
         "yaxis": "y2"
        },
        {
         "line": {
          "width": 1
         },
         "name": "VGG16 page_1 class_4",
         "opacity": 0.8,
         "type": "scatter",
         "x": [
          1,
          2,
          3,
          4,
          5,
          6,
          7,
          8,
          9,
          10
         ],
         "xaxis": "x13",
         "y": [
          1.3706587050361148,
          1.2868993890776583,
          1.2010422639899618,
          1.1237710863911636,
          1.073690286939971,
          1.0417990286329064,
          1.0016616113617993,
          0.937355586158443,
          0.9143929005535735,
          0.8859517200568287
         ],
         "yaxis": "y13"
        },
        {
         "line": {
          "width": 1
         },
         "name": "VGG16 page_2 class_2_train",
         "opacity": 0.8,
         "type": "scatter",
         "x": [
          1,
          2,
          3,
          4,
          5,
          6,
          7,
          8,
          9,
          10
         ],
         "xaxis": "x3",
         "y": [
          0.6807374259245074,
          0.6076434305633358,
          0.5112574982449185,
          0.44564771195889824,
          0.3991531390579919,
          0.38616044048915743,
          0.37069919269306845,
          0.3586483004124246,
          0.3530890169098046,
          0.35005625837597826
         ],
         "yaxis": "y3"
        },
        {
         "line": {
          "width": 1
         },
         "name": "VGG16 page_2 class_2",
         "opacity": 0.8,
         "type": "scatter",
         "x": [
          1,
          2,
          3,
          4,
          5,
          6,
          7,
          8,
          9,
          10
         ],
         "xaxis": "x13",
         "y": [
          0.6807374259245074,
          0.6076434305633358,
          0.5112574982449185,
          0.44564771195889824,
          0.3991531390579919,
          0.38616044048915743,
          0.37069919269306845,
          0.3586483004124246,
          0.3530890169098046,
          0.35005625837597826
         ],
         "yaxis": "y13"
        },
        {
         "line": {
          "width": 1
         },
         "name": "VGG16 page_2 class_4_train",
         "opacity": 0.8,
         "type": "scatter",
         "x": [
          1,
          2,
          3,
          4,
          5,
          6,
          7,
          8,
          9,
          10
         ],
         "xaxis": "x4",
         "y": [
          1.372806410150165,
          1.3040572983472563,
          1.2225471658394296,
          1.148695002259608,
          1.0785878281859747,
          1.037259249725493,
          0.9945639583189329,
          0.9403841013581056,
          0.9043481814376298,
          0.8591137915064415
         ],
         "yaxis": "y4"
        },
        {
         "line": {
          "width": 1
         },
         "name": "VGG16 page_2 class_4",
         "opacity": 0.8,
         "type": "scatter",
         "x": [
          1,
          2,
          3,
          4,
          5,
          6,
          7,
          8,
          9,
          10
         ],
         "xaxis": "x13",
         "y": [
          1.372806410150165,
          1.3040572983472563,
          1.2225471658394296,
          1.148695002259608,
          1.0785878281859747,
          1.037259249725493,
          0.9945639583189329,
          0.9403841013581056,
          0.9043481814376298,
          0.8591137915064415
         ],
         "yaxis": "y13"
        },
        {
         "line": {
          "width": 1
         },
         "name": "VGG16 page_3 class_2_train",
         "opacity": 0.8,
         "type": "scatter",
         "x": [
          1,
          2,
          3,
          4,
          5,
          6,
          7,
          8,
          9,
          10
         ],
         "xaxis": "x5",
         "y": [
          0.6846282944589748,
          0.6350930664787248,
          0.563701633449416,
          0.4618540318157413,
          0.4128366092969321,
          0.38832247372457,
          0.36891185111978864,
          0.35520651726406616,
          0.34795059600912853,
          0.33748256411308764
         ],
         "yaxis": "y5"
        },
        {
         "line": {
          "width": 1
         },
         "name": "VGG16 page_3 class_2",
         "opacity": 0.8,
         "type": "scatter",
         "x": [
          1,
          2,
          3,
          4,
          5,
          6,
          7,
          8,
          9,
          10
         ],
         "xaxis": "x13",
         "y": [
          0.6846282944589748,
          0.6350930664787248,
          0.563701633449416,
          0.4618540318157413,
          0.4128366092969321,
          0.38832247372457,
          0.36891185111978864,
          0.35520651726406616,
          0.34795059600912853,
          0.33748256411308764
         ],
         "yaxis": "y13"
        },
        {
         "line": {
          "width": 1
         },
         "name": "VGG16 page_3 class_4_train",
         "opacity": 0.8,
         "type": "scatter",
         "x": [
          1,
          2,
          3,
          4,
          5,
          6,
          7,
          8,
          9,
          10
         ],
         "xaxis": "x6",
         "y": [
          1.3626258579350279,
          1.2874364683878516,
          1.2074866161287718,
          1.1605442999465387,
          1.1093829412893046,
          0.9691185930070719,
          0.8627711595103922,
          0.8282108500712023,
          0.7969389796464461,
          0.7903477870183389
         ],
         "yaxis": "y6"
        },
        {
         "line": {
          "width": 1
         },
         "name": "VGG16 page_3 class_4",
         "opacity": 0.8,
         "type": "scatter",
         "x": [
          1,
          2,
          3,
          4,
          5,
          6,
          7,
          8,
          9,
          10
         ],
         "xaxis": "x13",
         "y": [
          1.3626258579350279,
          1.2874364683878516,
          1.2074866161287718,
          1.1605442999465387,
          1.1093829412893046,
          0.9691185930070719,
          0.8627711595103922,
          0.8282108500712023,
          0.7969389796464461,
          0.7903477870183389
         ],
         "yaxis": "y13"
        },
        {
         "line": {
          "width": 1
         },
         "name": "Eff page_1 class_2_train",
         "opacity": 0.8,
         "type": "scatter",
         "x": [
          1,
          2,
          3,
          4,
          5,
          6,
          7,
          8,
          9,
          10
         ],
         "xaxis": "x7",
         "y": [
          0.6604286678995522,
          0.49023215049192265,
          0.40839904038363506,
          0.360720149457019,
          0.35167794788937157,
          0.3436534350400156,
          0.3380149739345544,
          0.33020614597683207,
          0.32551627245697506,
          0.330314289176427
         ],
         "yaxis": "y7"
        },
        {
         "line": {
          "width": 1
         },
         "name": "Eff page_1 class_2",
         "opacity": 0.8,
         "type": "scatter",
         "x": [
          1,
          2,
          3,
          4,
          5,
          6,
          7,
          8,
          9,
          10
         ],
         "xaxis": "x13",
         "y": [
          0.6604286678995522,
          0.49023215049192265,
          0.40839904038363506,
          0.360720149457019,
          0.35167794788937157,
          0.3436534350400156,
          0.3380149739345544,
          0.33020614597683207,
          0.32551627245697506,
          0.330314289176427
         ],
         "yaxis": "y13"
        },
        {
         "line": {
          "width": 1
         },
         "name": "Eff page_1 class_4_train",
         "opacity": 0.8,
         "type": "scatter",
         "x": [
          1,
          2,
          3,
          4,
          5,
          6,
          7,
          8,
          9,
          10
         ],
         "xaxis": "x8",
         "y": [
          1.363632459810475,
          1.167568545073358,
          1.0267639005418634,
          0.9209105867820212,
          0.8701666935700959,
          0.8402217092211626,
          0.8226923844189755,
          0.8085057316580602,
          0.7912537159367812,
          0.7874729103021069
         ],
         "yaxis": "y8"
        },
        {
         "line": {
          "width": 1
         },
         "name": "Eff page_1 class_4",
         "opacity": 0.8,
         "type": "scatter",
         "x": [
          1,
          2,
          3,
          4,
          5,
          6,
          7,
          8,
          9,
          10
         ],
         "xaxis": "x13",
         "y": [
          1.363632459810475,
          1.167568545073358,
          1.0267639005418634,
          0.9209105867820212,
          0.8701666935700959,
          0.8402217092211626,
          0.8226923844189755,
          0.8085057316580602,
          0.7912537159367812,
          0.7874729103021069
         ],
         "yaxis": "y13"
        },
        {
         "line": {
          "width": 1
         },
         "name": "Eff page_2 class_2_train",
         "opacity": 0.8,
         "type": "scatter",
         "x": [
          1,
          2,
          3,
          4,
          5,
          6,
          7,
          8,
          9,
          10
         ],
         "xaxis": "x9",
         "y": [
          0.6652585976785406,
          0.49048356889211814,
          0.3995370299067126,
          0.35500000297037076,
          0.34032269915243857,
          0.3364776543141891,
          0.3285192619872852,
          0.3238989890238315,
          0.3240531040929116,
          0.32369260003292155
         ],
         "yaxis": "y9"
        },
        {
         "line": {
          "width": 1
         },
         "name": "Eff page_2 class_2",
         "opacity": 0.8,
         "type": "scatter",
         "x": [
          1,
          2,
          3,
          4,
          5,
          6,
          7,
          8,
          9,
          10
         ],
         "xaxis": "x13",
         "y": [
          0.6652585976785406,
          0.49048356889211814,
          0.3995370299067126,
          0.35500000297037076,
          0.34032269915243857,
          0.3364776543141891,
          0.3285192619872852,
          0.3238989890238315,
          0.3240531040929116,
          0.32369260003292155
         ],
         "yaxis": "y13"
        },
        {
         "line": {
          "width": 1
         },
         "name": "Eff page_2 class_4_train",
         "opacity": 0.8,
         "type": "scatter",
         "x": [
          1,
          2,
          3,
          4,
          5,
          6,
          7,
          8,
          9,
          10
         ],
         "xaxis": "x10",
         "y": [
          1.3713922372926861,
          1.1935368071375516,
          1.0423887266332856,
          0.9393726857033547,
          0.8815179788432634,
          0.8332852606135277,
          0.8083625773164674,
          0.7862879425920101,
          0.7794140272730986,
          0.7708566938884355
         ],
         "yaxis": "y10"
        },
        {
         "line": {
          "width": 1
         },
         "name": "Eff page_2 class_4",
         "opacity": 0.8,
         "type": "scatter",
         "x": [
          1,
          2,
          3,
          4,
          5,
          6,
          7,
          8,
          9,
          10
         ],
         "xaxis": "x13",
         "y": [
          1.3713922372926861,
          1.1935368071375516,
          1.0423887266332856,
          0.9393726857033547,
          0.8815179788432634,
          0.8332852606135277,
          0.8083625773164674,
          0.7862879425920101,
          0.7794140272730986,
          0.7708566938884355
         ],
         "yaxis": "y13"
        },
        {
         "line": {
          "width": 1
         },
         "name": "Eff page_3 class_2_train",
         "opacity": 0.8,
         "type": "scatter",
         "x": [
          1,
          2,
          3,
          4,
          5,
          6,
          7,
          8,
          9,
          10
         ],
         "xaxis": "x11",
         "y": [
          0.6668250688386457,
          0.5115231406880241,
          0.4207036385483049,
          0.3672945716629949,
          0.349371659867104,
          0.34120378764789044,
          0.3279209946466945,
          0.3270010835340785,
          0.322683613853376,
          0.32088157110188364
         ],
         "yaxis": "y11"
        },
        {
         "line": {
          "width": 1
         },
         "name": "Eff page_3 class_2",
         "opacity": 0.8,
         "type": "scatter",
         "x": [
          1,
          2,
          3,
          4,
          5,
          6,
          7,
          8,
          9,
          10
         ],
         "xaxis": "x13",
         "y": [
          0.6668250688386457,
          0.5115231406880241,
          0.4207036385483049,
          0.3672945716629949,
          0.349371659867104,
          0.34120378764789044,
          0.3279209946466945,
          0.3270010835340785,
          0.322683613853376,
          0.32088157110188364
         ],
         "yaxis": "y13"
        },
        {
         "line": {
          "width": 1
         },
         "name": "Eff page_3 class_4_train",
         "opacity": 0.8,
         "type": "scatter",
         "x": [
          1,
          2,
          3,
          4,
          5,
          6,
          7,
          8,
          9,
          10
         ],
         "xaxis": "x12",
         "y": [
          1.3761642302033459,
          1.199498869920712,
          1.0384936113064145,
          0.9160140302397092,
          0.857393739407671,
          0.8172475929527743,
          0.794309291977979,
          0.7844411107176967,
          0.7716298316011021,
          0.7693254131154266
         ],
         "yaxis": "y12"
        },
        {
         "line": {
          "width": 1
         },
         "name": "Eff page_3 class_4",
         "opacity": 0.8,
         "type": "scatter",
         "x": [
          1,
          2,
          3,
          4,
          5,
          6,
          7,
          8,
          9,
          10
         ],
         "xaxis": "x13",
         "y": [
          1.3761642302033459,
          1.199498869920712,
          1.0384936113064145,
          0.9160140302397092,
          0.857393739407671,
          0.8172475929527743,
          0.794309291977979,
          0.7844411107176967,
          0.7716298316011021,
          0.7693254131154266
         ],
         "yaxis": "y13"
        }
       ],
       "layout": {
        "annotations": [
         {
          "font": {
           "size": 16
          },
          "showarrow": false,
          "text": "VGG16 page_1 class_2",
          "x": 0.14444444444444446,
          "xanchor": "center",
          "xref": "paper",
          "y": 1,
          "yanchor": "bottom",
          "yref": "paper"
         },
         {
          "font": {
           "size": 16
          },
          "showarrow": false,
          "text": "VGG16 page_1 class_4",
          "x": 0.5,
          "xanchor": "center",
          "xref": "paper",
          "y": 1,
          "yanchor": "bottom",
          "yref": "paper"
         },
         {
          "font": {
           "size": 16
          },
          "showarrow": false,
          "text": "VGG16 page_2 class_2",
          "x": 0.8555555555555556,
          "xanchor": "center",
          "xref": "paper",
          "y": 1,
          "yanchor": "bottom",
          "yref": "paper"
         },
         {
          "font": {
           "size": 16
          },
          "showarrow": false,
          "text": "VGG16 page_2 class_4",
          "x": 0.14444444444444446,
          "xanchor": "center",
          "xref": "paper",
          "y": 0.78,
          "yanchor": "bottom",
          "yref": "paper"
         },
         {
          "font": {
           "size": 16
          },
          "showarrow": false,
          "text": "VGG16 page_3 class_2",
          "x": 0.5,
          "xanchor": "center",
          "xref": "paper",
          "y": 0.78,
          "yanchor": "bottom",
          "yref": "paper"
         },
         {
          "font": {
           "size": 16
          },
          "showarrow": false,
          "text": "VGG16 page_3 class_4",
          "x": 0.8555555555555556,
          "xanchor": "center",
          "xref": "paper",
          "y": 0.78,
          "yanchor": "bottom",
          "yref": "paper"
         },
         {
          "font": {
           "size": 16
          },
          "showarrow": false,
          "text": "Eff page_1 class_2",
          "x": 0.14444444444444446,
          "xanchor": "center",
          "xref": "paper",
          "y": 0.56,
          "yanchor": "bottom",
          "yref": "paper"
         },
         {
          "font": {
           "size": 16
          },
          "showarrow": false,
          "text": "Eff page_1 class_4",
          "x": 0.5,
          "xanchor": "center",
          "xref": "paper",
          "y": 0.56,
          "yanchor": "bottom",
          "yref": "paper"
         },
         {
          "font": {
           "size": 16
          },
          "showarrow": false,
          "text": "Eff page_2 class_2",
          "x": 0.8555555555555556,
          "xanchor": "center",
          "xref": "paper",
          "y": 0.56,
          "yanchor": "bottom",
          "yref": "paper"
         },
         {
          "font": {
           "size": 16
          },
          "showarrow": false,
          "text": "Eff page_2 class_4",
          "x": 0.14444444444444446,
          "xanchor": "center",
          "xref": "paper",
          "y": 0.33999999999999997,
          "yanchor": "bottom",
          "yref": "paper"
         },
         {
          "font": {
           "size": 16
          },
          "showarrow": false,
          "text": "Eff page_3 class_2",
          "x": 0.5,
          "xanchor": "center",
          "xref": "paper",
          "y": 0.33999999999999997,
          "yanchor": "bottom",
          "yref": "paper"
         },
         {
          "font": {
           "size": 16
          },
          "showarrow": false,
          "text": "Eff page_3 class_4",
          "x": 0.8555555555555556,
          "xanchor": "center",
          "xref": "paper",
          "y": 0.33999999999999997,
          "yanchor": "bottom",
          "yref": "paper"
         },
         {
          "font": {
           "size": 16
          },
          "showarrow": false,
          "text": "All Training Losses In One Plot",
          "x": 0.5,
          "xanchor": "center",
          "xref": "paper",
          "y": 0.12,
          "yanchor": "bottom",
          "yref": "paper"
         }
        ],
        "height": 2000,
        "showlegend": false,
        "template": {
         "data": {
          "bar": [
           {
            "error_x": {
             "color": "#2a3f5f"
            },
            "error_y": {
             "color": "#2a3f5f"
            },
            "marker": {
             "line": {
              "color": "#E5ECF6",
              "width": 0.5
             },
             "pattern": {
              "fillmode": "overlay",
              "size": 10,
              "solidity": 0.2
             }
            },
            "type": "bar"
           }
          ],
          "barpolar": [
           {
            "marker": {
             "line": {
              "color": "#E5ECF6",
              "width": 0.5
             },
             "pattern": {
              "fillmode": "overlay",
              "size": 10,
              "solidity": 0.2
             }
            },
            "type": "barpolar"
           }
          ],
          "carpet": [
           {
            "aaxis": {
             "endlinecolor": "#2a3f5f",
             "gridcolor": "white",
             "linecolor": "white",
             "minorgridcolor": "white",
             "startlinecolor": "#2a3f5f"
            },
            "baxis": {
             "endlinecolor": "#2a3f5f",
             "gridcolor": "white",
             "linecolor": "white",
             "minorgridcolor": "white",
             "startlinecolor": "#2a3f5f"
            },
            "type": "carpet"
           }
          ],
          "choropleth": [
           {
            "colorbar": {
             "outlinewidth": 0,
             "ticks": ""
            },
            "type": "choropleth"
           }
          ],
          "contour": [
           {
            "colorbar": {
             "outlinewidth": 0,
             "ticks": ""
            },
            "colorscale": [
             [
              0,
              "#0d0887"
             ],
             [
              0.1111111111111111,
              "#46039f"
             ],
             [
              0.2222222222222222,
              "#7201a8"
             ],
             [
              0.3333333333333333,
              "#9c179e"
             ],
             [
              0.4444444444444444,
              "#bd3786"
             ],
             [
              0.5555555555555556,
              "#d8576b"
             ],
             [
              0.6666666666666666,
              "#ed7953"
             ],
             [
              0.7777777777777778,
              "#fb9f3a"
             ],
             [
              0.8888888888888888,
              "#fdca26"
             ],
             [
              1,
              "#f0f921"
             ]
            ],
            "type": "contour"
           }
          ],
          "contourcarpet": [
           {
            "colorbar": {
             "outlinewidth": 0,
             "ticks": ""
            },
            "type": "contourcarpet"
           }
          ],
          "heatmap": [
           {
            "colorbar": {
             "outlinewidth": 0,
             "ticks": ""
            },
            "colorscale": [
             [
              0,
              "#0d0887"
             ],
             [
              0.1111111111111111,
              "#46039f"
             ],
             [
              0.2222222222222222,
              "#7201a8"
             ],
             [
              0.3333333333333333,
              "#9c179e"
             ],
             [
              0.4444444444444444,
              "#bd3786"
             ],
             [
              0.5555555555555556,
              "#d8576b"
             ],
             [
              0.6666666666666666,
              "#ed7953"
             ],
             [
              0.7777777777777778,
              "#fb9f3a"
             ],
             [
              0.8888888888888888,
              "#fdca26"
             ],
             [
              1,
              "#f0f921"
             ]
            ],
            "type": "heatmap"
           }
          ],
          "heatmapgl": [
           {
            "colorbar": {
             "outlinewidth": 0,
             "ticks": ""
            },
            "colorscale": [
             [
              0,
              "#0d0887"
             ],
             [
              0.1111111111111111,
              "#46039f"
             ],
             [
              0.2222222222222222,
              "#7201a8"
             ],
             [
              0.3333333333333333,
              "#9c179e"
             ],
             [
              0.4444444444444444,
              "#bd3786"
             ],
             [
              0.5555555555555556,
              "#d8576b"
             ],
             [
              0.6666666666666666,
              "#ed7953"
             ],
             [
              0.7777777777777778,
              "#fb9f3a"
             ],
             [
              0.8888888888888888,
              "#fdca26"
             ],
             [
              1,
              "#f0f921"
             ]
            ],
            "type": "heatmapgl"
           }
          ],
          "histogram": [
           {
            "marker": {
             "pattern": {
              "fillmode": "overlay",
              "size": 10,
              "solidity": 0.2
             }
            },
            "type": "histogram"
           }
          ],
          "histogram2d": [
           {
            "colorbar": {
             "outlinewidth": 0,
             "ticks": ""
            },
            "colorscale": [
             [
              0,
              "#0d0887"
             ],
             [
              0.1111111111111111,
              "#46039f"
             ],
             [
              0.2222222222222222,
              "#7201a8"
             ],
             [
              0.3333333333333333,
              "#9c179e"
             ],
             [
              0.4444444444444444,
              "#bd3786"
             ],
             [
              0.5555555555555556,
              "#d8576b"
             ],
             [
              0.6666666666666666,
              "#ed7953"
             ],
             [
              0.7777777777777778,
              "#fb9f3a"
             ],
             [
              0.8888888888888888,
              "#fdca26"
             ],
             [
              1,
              "#f0f921"
             ]
            ],
            "type": "histogram2d"
           }
          ],
          "histogram2dcontour": [
           {
            "colorbar": {
             "outlinewidth": 0,
             "ticks": ""
            },
            "colorscale": [
             [
              0,
              "#0d0887"
             ],
             [
              0.1111111111111111,
              "#46039f"
             ],
             [
              0.2222222222222222,
              "#7201a8"
             ],
             [
              0.3333333333333333,
              "#9c179e"
             ],
             [
              0.4444444444444444,
              "#bd3786"
             ],
             [
              0.5555555555555556,
              "#d8576b"
             ],
             [
              0.6666666666666666,
              "#ed7953"
             ],
             [
              0.7777777777777778,
              "#fb9f3a"
             ],
             [
              0.8888888888888888,
              "#fdca26"
             ],
             [
              1,
              "#f0f921"
             ]
            ],
            "type": "histogram2dcontour"
           }
          ],
          "mesh3d": [
           {
            "colorbar": {
             "outlinewidth": 0,
             "ticks": ""
            },
            "type": "mesh3d"
           }
          ],
          "parcoords": [
           {
            "line": {
             "colorbar": {
              "outlinewidth": 0,
              "ticks": ""
             }
            },
            "type": "parcoords"
           }
          ],
          "pie": [
           {
            "automargin": true,
            "type": "pie"
           }
          ],
          "scatter": [
           {
            "marker": {
             "colorbar": {
              "outlinewidth": 0,
              "ticks": ""
             }
            },
            "type": "scatter"
           }
          ],
          "scatter3d": [
           {
            "line": {
             "colorbar": {
              "outlinewidth": 0,
              "ticks": ""
             }
            },
            "marker": {
             "colorbar": {
              "outlinewidth": 0,
              "ticks": ""
             }
            },
            "type": "scatter3d"
           }
          ],
          "scattercarpet": [
           {
            "marker": {
             "colorbar": {
              "outlinewidth": 0,
              "ticks": ""
             }
            },
            "type": "scattercarpet"
           }
          ],
          "scattergeo": [
           {
            "marker": {
             "colorbar": {
              "outlinewidth": 0,
              "ticks": ""
             }
            },
            "type": "scattergeo"
           }
          ],
          "scattergl": [
           {
            "marker": {
             "colorbar": {
              "outlinewidth": 0,
              "ticks": ""
             }
            },
            "type": "scattergl"
           }
          ],
          "scattermapbox": [
           {
            "marker": {
             "colorbar": {
              "outlinewidth": 0,
              "ticks": ""
             }
            },
            "type": "scattermapbox"
           }
          ],
          "scatterpolar": [
           {
            "marker": {
             "colorbar": {
              "outlinewidth": 0,
              "ticks": ""
             }
            },
            "type": "scatterpolar"
           }
          ],
          "scatterpolargl": [
           {
            "marker": {
             "colorbar": {
              "outlinewidth": 0,
              "ticks": ""
             }
            },
            "type": "scatterpolargl"
           }
          ],
          "scatterternary": [
           {
            "marker": {
             "colorbar": {
              "outlinewidth": 0,
              "ticks": ""
             }
            },
            "type": "scatterternary"
           }
          ],
          "surface": [
           {
            "colorbar": {
             "outlinewidth": 0,
             "ticks": ""
            },
            "colorscale": [
             [
              0,
              "#0d0887"
             ],
             [
              0.1111111111111111,
              "#46039f"
             ],
             [
              0.2222222222222222,
              "#7201a8"
             ],
             [
              0.3333333333333333,
              "#9c179e"
             ],
             [
              0.4444444444444444,
              "#bd3786"
             ],
             [
              0.5555555555555556,
              "#d8576b"
             ],
             [
              0.6666666666666666,
              "#ed7953"
             ],
             [
              0.7777777777777778,
              "#fb9f3a"
             ],
             [
              0.8888888888888888,
              "#fdca26"
             ],
             [
              1,
              "#f0f921"
             ]
            ],
            "type": "surface"
           }
          ],
          "table": [
           {
            "cells": {
             "fill": {
              "color": "#EBF0F8"
             },
             "line": {
              "color": "white"
             }
            },
            "header": {
             "fill": {
              "color": "#C8D4E3"
             },
             "line": {
              "color": "white"
             }
            },
            "type": "table"
           }
          ]
         },
         "layout": {
          "annotationdefaults": {
           "arrowcolor": "#2a3f5f",
           "arrowhead": 0,
           "arrowwidth": 1
          },
          "autotypenumbers": "strict",
          "coloraxis": {
           "colorbar": {
            "outlinewidth": 0,
            "ticks": ""
           }
          },
          "colorscale": {
           "diverging": [
            [
             0,
             "#8e0152"
            ],
            [
             0.1,
             "#c51b7d"
            ],
            [
             0.2,
             "#de77ae"
            ],
            [
             0.3,
             "#f1b6da"
            ],
            [
             0.4,
             "#fde0ef"
            ],
            [
             0.5,
             "#f7f7f7"
            ],
            [
             0.6,
             "#e6f5d0"
            ],
            [
             0.7,
             "#b8e186"
            ],
            [
             0.8,
             "#7fbc41"
            ],
            [
             0.9,
             "#4d9221"
            ],
            [
             1,
             "#276419"
            ]
           ],
           "sequential": [
            [
             0,
             "#0d0887"
            ],
            [
             0.1111111111111111,
             "#46039f"
            ],
            [
             0.2222222222222222,
             "#7201a8"
            ],
            [
             0.3333333333333333,
             "#9c179e"
            ],
            [
             0.4444444444444444,
             "#bd3786"
            ],
            [
             0.5555555555555556,
             "#d8576b"
            ],
            [
             0.6666666666666666,
             "#ed7953"
            ],
            [
             0.7777777777777778,
             "#fb9f3a"
            ],
            [
             0.8888888888888888,
             "#fdca26"
            ],
            [
             1,
             "#f0f921"
            ]
           ],
           "sequentialminus": [
            [
             0,
             "#0d0887"
            ],
            [
             0.1111111111111111,
             "#46039f"
            ],
            [
             0.2222222222222222,
             "#7201a8"
            ],
            [
             0.3333333333333333,
             "#9c179e"
            ],
            [
             0.4444444444444444,
             "#bd3786"
            ],
            [
             0.5555555555555556,
             "#d8576b"
            ],
            [
             0.6666666666666666,
             "#ed7953"
            ],
            [
             0.7777777777777778,
             "#fb9f3a"
            ],
            [
             0.8888888888888888,
             "#fdca26"
            ],
            [
             1,
             "#f0f921"
            ]
           ]
          },
          "colorway": [
           "#636efa",
           "#EF553B",
           "#00cc96",
           "#ab63fa",
           "#FFA15A",
           "#19d3f3",
           "#FF6692",
           "#B6E880",
           "#FF97FF",
           "#FECB52"
          ],
          "font": {
           "color": "#2a3f5f"
          },
          "geo": {
           "bgcolor": "white",
           "lakecolor": "white",
           "landcolor": "#E5ECF6",
           "showlakes": true,
           "showland": true,
           "subunitcolor": "white"
          },
          "hoverlabel": {
           "align": "left"
          },
          "hovermode": "closest",
          "mapbox": {
           "style": "light"
          },
          "paper_bgcolor": "white",
          "plot_bgcolor": "#E5ECF6",
          "polar": {
           "angularaxis": {
            "gridcolor": "white",
            "linecolor": "white",
            "ticks": ""
           },
           "bgcolor": "#E5ECF6",
           "radialaxis": {
            "gridcolor": "white",
            "linecolor": "white",
            "ticks": ""
           }
          },
          "scene": {
           "xaxis": {
            "backgroundcolor": "#E5ECF6",
            "gridcolor": "white",
            "gridwidth": 2,
            "linecolor": "white",
            "showbackground": true,
            "ticks": "",
            "zerolinecolor": "white"
           },
           "yaxis": {
            "backgroundcolor": "#E5ECF6",
            "gridcolor": "white",
            "gridwidth": 2,
            "linecolor": "white",
            "showbackground": true,
            "ticks": "",
            "zerolinecolor": "white"
           },
           "zaxis": {
            "backgroundcolor": "#E5ECF6",
            "gridcolor": "white",
            "gridwidth": 2,
            "linecolor": "white",
            "showbackground": true,
            "ticks": "",
            "zerolinecolor": "white"
           }
          },
          "shapedefaults": {
           "line": {
            "color": "#2a3f5f"
           }
          },
          "ternary": {
           "aaxis": {
            "gridcolor": "white",
            "linecolor": "white",
            "ticks": ""
           },
           "baxis": {
            "gridcolor": "white",
            "linecolor": "white",
            "ticks": ""
           },
           "bgcolor": "#E5ECF6",
           "caxis": {
            "gridcolor": "white",
            "linecolor": "white",
            "ticks": ""
           }
          },
          "title": {
           "x": 0.05
          },
          "xaxis": {
           "automargin": true,
           "gridcolor": "white",
           "linecolor": "white",
           "ticks": "",
           "title": {
            "standoff": 15
           },
           "zerolinecolor": "white",
           "zerolinewidth": 2
          },
          "yaxis": {
           "automargin": true,
           "gridcolor": "white",
           "linecolor": "white",
           "ticks": "",
           "title": {
            "standoff": 15
           },
           "zerolinecolor": "white",
           "zerolinewidth": 2
          }
         }
        },
        "title": {
         "text": "Plot of Train Running Loss of All Models"
        },
        "width": 2000,
        "xaxis": {
         "anchor": "y",
         "domain": [
          0,
          0.2888888888888889
         ],
         "title": {
          "text": "Epochs"
         }
        },
        "xaxis10": {
         "anchor": "y10",
         "domain": [
          0,
          0.2888888888888889
         ],
         "title": {
          "text": "Epochs"
         }
        },
        "xaxis11": {
         "anchor": "y11",
         "domain": [
          0.35555555555555557,
          0.6444444444444445
         ],
         "title": {
          "text": "Epochs"
         }
        },
        "xaxis12": {
         "anchor": "y12",
         "domain": [
          0.7111111111111111,
          1
         ],
         "title": {
          "text": "Epochs"
         }
        },
        "xaxis13": {
         "anchor": "y13",
         "domain": [
          0,
          1
         ],
         "title": {
          "text": "Epochs"
         }
        },
        "xaxis2": {
         "anchor": "y2",
         "domain": [
          0.35555555555555557,
          0.6444444444444445
         ],
         "title": {
          "text": "Epochs"
         }
        },
        "xaxis3": {
         "anchor": "y3",
         "domain": [
          0.7111111111111111,
          1
         ],
         "title": {
          "text": "Epochs"
         }
        },
        "xaxis4": {
         "anchor": "y4",
         "domain": [
          0,
          0.2888888888888889
         ],
         "title": {
          "text": "Epochs"
         }
        },
        "xaxis5": {
         "anchor": "y5",
         "domain": [
          0.35555555555555557,
          0.6444444444444445
         ],
         "title": {
          "text": "Epochs"
         }
        },
        "xaxis6": {
         "anchor": "y6",
         "domain": [
          0.7111111111111111,
          1
         ],
         "title": {
          "text": "Epochs"
         }
        },
        "xaxis7": {
         "anchor": "y7",
         "domain": [
          0,
          0.2888888888888889
         ],
         "title": {
          "text": "Epochs"
         }
        },
        "xaxis8": {
         "anchor": "y8",
         "domain": [
          0.35555555555555557,
          0.6444444444444445
         ],
         "title": {
          "text": "Epochs"
         }
        },
        "xaxis9": {
         "anchor": "y9",
         "domain": [
          0.7111111111111111,
          1
         ],
         "title": {
          "text": "Epochs"
         }
        },
        "yaxis": {
         "anchor": "x",
         "domain": [
          0.88,
          1
         ],
         "title": {
          "text": "Loss"
         }
        },
        "yaxis10": {
         "anchor": "x10",
         "domain": [
          0.22,
          0.33999999999999997
         ],
         "title": {
          "text": "Loss"
         }
        },
        "yaxis11": {
         "anchor": "x11",
         "domain": [
          0.22,
          0.33999999999999997
         ],
         "title": {
          "text": "Loss"
         }
        },
        "yaxis12": {
         "anchor": "x12",
         "domain": [
          0.22,
          0.33999999999999997
         ],
         "title": {
          "text": "Loss"
         }
        },
        "yaxis13": {
         "anchor": "x13",
         "domain": [
          0,
          0.12
         ],
         "title": {
          "text": "Loss"
         }
        },
        "yaxis2": {
         "anchor": "x2",
         "domain": [
          0.88,
          1
         ],
         "title": {
          "text": "Loss"
         }
        },
        "yaxis3": {
         "anchor": "x3",
         "domain": [
          0.88,
          1
         ],
         "title": {
          "text": "Loss"
         }
        },
        "yaxis4": {
         "anchor": "x4",
         "domain": [
          0.66,
          0.78
         ],
         "title": {
          "text": "Loss"
         }
        },
        "yaxis5": {
         "anchor": "x5",
         "domain": [
          0.66,
          0.78
         ],
         "title": {
          "text": "Loss"
         }
        },
        "yaxis6": {
         "anchor": "x6",
         "domain": [
          0.66,
          0.78
         ],
         "title": {
          "text": "Loss"
         }
        },
        "yaxis7": {
         "anchor": "x7",
         "domain": [
          0.44,
          0.56
         ],
         "title": {
          "text": "Loss"
         }
        },
        "yaxis8": {
         "anchor": "x8",
         "domain": [
          0.44,
          0.56
         ],
         "title": {
          "text": "Loss"
         }
        },
        "yaxis9": {
         "anchor": "x9",
         "domain": [
          0.44,
          0.56
         ],
         "title": {
          "text": "Loss"
         }
        }
       }
      },
      "text/html": [
       "<div>                            <div id=\"b0f34f61-c31e-4d13-9305-241a13a80332\" class=\"plotly-graph-div\" style=\"height:2000px; width:2000px;\"></div>            <script type=\"text/javascript\">                require([\"plotly\"], function(Plotly) {                    window.PLOTLYENV=window.PLOTLYENV || {};                                    if (document.getElementById(\"b0f34f61-c31e-4d13-9305-241a13a80332\")) {                    Plotly.newPlot(                        \"b0f34f61-c31e-4d13-9305-241a13a80332\",                        [{\"line\":{\"width\":1},\"name\":\"VGG16 page_1 class_2_train\",\"opacity\":0.8,\"type\":\"scatter\",\"x\":[1,2,3,4,5,6,7,8,9,10],\"xaxis\":\"x\",\"y\":[0.6812294102133125,0.593948706590577,0.5081354826077898,0.43970917774415924,0.4158972274385366,0.39875793442716717,0.3815911030415022,0.37243000384381014,0.3703258044975899,0.35536670333269044],\"yaxis\":\"y\"},{\"line\":{\"width\":1},\"name\":\"VGG16 page_1 class_2\",\"opacity\":0.8,\"type\":\"scatter\",\"x\":[1,2,3,4,5,6,7,8,9,10],\"xaxis\":\"x13\",\"y\":[0.6812294102133125,0.593948706590577,0.5081354826077898,0.43970917774415924,0.4158972274385366,0.39875793442716717,0.3815911030415022,0.37243000384381014,0.3703258044975899,0.35536670333269044],\"yaxis\":\"y13\"},{\"line\":{\"width\":1},\"name\":\"VGG16 page_1 class_4_train\",\"opacity\":0.8,\"type\":\"scatter\",\"x\":[1,2,3,4,5,6,7,8,9,10],\"xaxis\":\"x2\",\"y\":[1.3706587050361148,1.2868993890776583,1.2010422639899618,1.1237710863911636,1.073690286939971,1.0417990286329064,1.0016616113617993,0.937355586158443,0.9143929005535735,0.8859517200568287],\"yaxis\":\"y2\"},{\"line\":{\"width\":1},\"name\":\"VGG16 page_1 class_4\",\"opacity\":0.8,\"type\":\"scatter\",\"x\":[1,2,3,4,5,6,7,8,9,10],\"xaxis\":\"x13\",\"y\":[1.3706587050361148,1.2868993890776583,1.2010422639899618,1.1237710863911636,1.073690286939971,1.0417990286329064,1.0016616113617993,0.937355586158443,0.9143929005535735,0.8859517200568287],\"yaxis\":\"y13\"},{\"line\":{\"width\":1},\"name\":\"VGG16 page_2 class_2_train\",\"opacity\":0.8,\"type\":\"scatter\",\"x\":[1,2,3,4,5,6,7,8,9,10],\"xaxis\":\"x3\",\"y\":[0.6807374259245074,0.6076434305633358,0.5112574982449185,0.44564771195889824,0.3991531390579919,0.38616044048915743,0.37069919269306845,0.3586483004124246,0.3530890169098046,0.35005625837597826],\"yaxis\":\"y3\"},{\"line\":{\"width\":1},\"name\":\"VGG16 page_2 class_2\",\"opacity\":0.8,\"type\":\"scatter\",\"x\":[1,2,3,4,5,6,7,8,9,10],\"xaxis\":\"x13\",\"y\":[0.6807374259245074,0.6076434305633358,0.5112574982449185,0.44564771195889824,0.3991531390579919,0.38616044048915743,0.37069919269306845,0.3586483004124246,0.3530890169098046,0.35005625837597826],\"yaxis\":\"y13\"},{\"line\":{\"width\":1},\"name\":\"VGG16 page_2 class_4_train\",\"opacity\":0.8,\"type\":\"scatter\",\"x\":[1,2,3,4,5,6,7,8,9,10],\"xaxis\":\"x4\",\"y\":[1.372806410150165,1.3040572983472563,1.2225471658394296,1.148695002259608,1.0785878281859747,1.037259249725493,0.9945639583189329,0.9403841013581056,0.9043481814376298,0.8591137915064415],\"yaxis\":\"y4\"},{\"line\":{\"width\":1},\"name\":\"VGG16 page_2 class_4\",\"opacity\":0.8,\"type\":\"scatter\",\"x\":[1,2,3,4,5,6,7,8,9,10],\"xaxis\":\"x13\",\"y\":[1.372806410150165,1.3040572983472563,1.2225471658394296,1.148695002259608,1.0785878281859747,1.037259249725493,0.9945639583189329,0.9403841013581056,0.9043481814376298,0.8591137915064415],\"yaxis\":\"y13\"},{\"line\":{\"width\":1},\"name\":\"VGG16 page_3 class_2_train\",\"opacity\":0.8,\"type\":\"scatter\",\"x\":[1,2,3,4,5,6,7,8,9,10],\"xaxis\":\"x5\",\"y\":[0.6846282944589748,0.6350930664787248,0.563701633449416,0.4618540318157413,0.4128366092969321,0.38832247372457,0.36891185111978864,0.35520651726406616,0.34795059600912853,0.33748256411308764],\"yaxis\":\"y5\"},{\"line\":{\"width\":1},\"name\":\"VGG16 page_3 class_2\",\"opacity\":0.8,\"type\":\"scatter\",\"x\":[1,2,3,4,5,6,7,8,9,10],\"xaxis\":\"x13\",\"y\":[0.6846282944589748,0.6350930664787248,0.563701633449416,0.4618540318157413,0.4128366092969321,0.38832247372457,0.36891185111978864,0.35520651726406616,0.34795059600912853,0.33748256411308764],\"yaxis\":\"y13\"},{\"line\":{\"width\":1},\"name\":\"VGG16 page_3 class_4_train\",\"opacity\":0.8,\"type\":\"scatter\",\"x\":[1,2,3,4,5,6,7,8,9,10],\"xaxis\":\"x6\",\"y\":[1.3626258579350279,1.2874364683878516,1.2074866161287718,1.1605442999465387,1.1093829412893046,0.9691185930070719,0.8627711595103922,0.8282108500712023,0.7969389796464461,0.7903477870183389],\"yaxis\":\"y6\"},{\"line\":{\"width\":1},\"name\":\"VGG16 page_3 class_4\",\"opacity\":0.8,\"type\":\"scatter\",\"x\":[1,2,3,4,5,6,7,8,9,10],\"xaxis\":\"x13\",\"y\":[1.3626258579350279,1.2874364683878516,1.2074866161287718,1.1605442999465387,1.1093829412893046,0.9691185930070719,0.8627711595103922,0.8282108500712023,0.7969389796464461,0.7903477870183389],\"yaxis\":\"y13\"},{\"line\":{\"width\":1},\"name\":\"Eff page_1 class_2_train\",\"opacity\":0.8,\"type\":\"scatter\",\"x\":[1,2,3,4,5,6,7,8,9,10],\"xaxis\":\"x7\",\"y\":[0.6604286678995522,0.49023215049192265,0.40839904038363506,0.360720149457019,0.35167794788937157,0.3436534350400156,0.3380149739345544,0.33020614597683207,0.32551627245697506,0.330314289176427],\"yaxis\":\"y7\"},{\"line\":{\"width\":1},\"name\":\"Eff page_1 class_2\",\"opacity\":0.8,\"type\":\"scatter\",\"x\":[1,2,3,4,5,6,7,8,9,10],\"xaxis\":\"x13\",\"y\":[0.6604286678995522,0.49023215049192265,0.40839904038363506,0.360720149457019,0.35167794788937157,0.3436534350400156,0.3380149739345544,0.33020614597683207,0.32551627245697506,0.330314289176427],\"yaxis\":\"y13\"},{\"line\":{\"width\":1},\"name\":\"Eff page_1 class_4_train\",\"opacity\":0.8,\"type\":\"scatter\",\"x\":[1,2,3,4,5,6,7,8,9,10],\"xaxis\":\"x8\",\"y\":[1.363632459810475,1.167568545073358,1.0267639005418634,0.9209105867820212,0.8701666935700959,0.8402217092211626,0.8226923844189755,0.8085057316580602,0.7912537159367812,0.7874729103021069],\"yaxis\":\"y8\"},{\"line\":{\"width\":1},\"name\":\"Eff page_1 class_4\",\"opacity\":0.8,\"type\":\"scatter\",\"x\":[1,2,3,4,5,6,7,8,9,10],\"xaxis\":\"x13\",\"y\":[1.363632459810475,1.167568545073358,1.0267639005418634,0.9209105867820212,0.8701666935700959,0.8402217092211626,0.8226923844189755,0.8085057316580602,0.7912537159367812,0.7874729103021069],\"yaxis\":\"y13\"},{\"line\":{\"width\":1},\"name\":\"Eff page_2 class_2_train\",\"opacity\":0.8,\"type\":\"scatter\",\"x\":[1,2,3,4,5,6,7,8,9,10],\"xaxis\":\"x9\",\"y\":[0.6652585976785406,0.49048356889211814,0.3995370299067126,0.35500000297037076,0.34032269915243857,0.3364776543141891,0.3285192619872852,0.3238989890238315,0.3240531040929116,0.32369260003292155],\"yaxis\":\"y9\"},{\"line\":{\"width\":1},\"name\":\"Eff page_2 class_2\",\"opacity\":0.8,\"type\":\"scatter\",\"x\":[1,2,3,4,5,6,7,8,9,10],\"xaxis\":\"x13\",\"y\":[0.6652585976785406,0.49048356889211814,0.3995370299067126,0.35500000297037076,0.34032269915243857,0.3364776543141891,0.3285192619872852,0.3238989890238315,0.3240531040929116,0.32369260003292155],\"yaxis\":\"y13\"},{\"line\":{\"width\":1},\"name\":\"Eff page_2 class_4_train\",\"opacity\":0.8,\"type\":\"scatter\",\"x\":[1,2,3,4,5,6,7,8,9,10],\"xaxis\":\"x10\",\"y\":[1.3713922372926861,1.1935368071375516,1.0423887266332856,0.9393726857033547,0.8815179788432634,0.8332852606135277,0.8083625773164674,0.7862879425920101,0.7794140272730986,0.7708566938884355],\"yaxis\":\"y10\"},{\"line\":{\"width\":1},\"name\":\"Eff page_2 class_4\",\"opacity\":0.8,\"type\":\"scatter\",\"x\":[1,2,3,4,5,6,7,8,9,10],\"xaxis\":\"x13\",\"y\":[1.3713922372926861,1.1935368071375516,1.0423887266332856,0.9393726857033547,0.8815179788432634,0.8332852606135277,0.8083625773164674,0.7862879425920101,0.7794140272730986,0.7708566938884355],\"yaxis\":\"y13\"},{\"line\":{\"width\":1},\"name\":\"Eff page_3 class_2_train\",\"opacity\":0.8,\"type\":\"scatter\",\"x\":[1,2,3,4,5,6,7,8,9,10],\"xaxis\":\"x11\",\"y\":[0.6668250688386457,0.5115231406880241,0.4207036385483049,0.3672945716629949,0.349371659867104,0.34120378764789044,0.3279209946466945,0.3270010835340785,0.322683613853376,0.32088157110188364],\"yaxis\":\"y11\"},{\"line\":{\"width\":1},\"name\":\"Eff page_3 class_2\",\"opacity\":0.8,\"type\":\"scatter\",\"x\":[1,2,3,4,5,6,7,8,9,10],\"xaxis\":\"x13\",\"y\":[0.6668250688386457,0.5115231406880241,0.4207036385483049,0.3672945716629949,0.349371659867104,0.34120378764789044,0.3279209946466945,0.3270010835340785,0.322683613853376,0.32088157110188364],\"yaxis\":\"y13\"},{\"line\":{\"width\":1},\"name\":\"Eff page_3 class_4_train\",\"opacity\":0.8,\"type\":\"scatter\",\"x\":[1,2,3,4,5,6,7,8,9,10],\"xaxis\":\"x12\",\"y\":[1.3761642302033459,1.199498869920712,1.0384936113064145,0.9160140302397092,0.857393739407671,0.8172475929527743,0.794309291977979,0.7844411107176967,0.7716298316011021,0.7693254131154266],\"yaxis\":\"y12\"},{\"line\":{\"width\":1},\"name\":\"Eff page_3 class_4\",\"opacity\":0.8,\"type\":\"scatter\",\"x\":[1,2,3,4,5,6,7,8,9,10],\"xaxis\":\"x13\",\"y\":[1.3761642302033459,1.199498869920712,1.0384936113064145,0.9160140302397092,0.857393739407671,0.8172475929527743,0.794309291977979,0.7844411107176967,0.7716298316011021,0.7693254131154266],\"yaxis\":\"y13\"}],                        {\"annotations\":[{\"font\":{\"size\":16},\"showarrow\":false,\"text\":\"VGG16 page_1 class_2\",\"x\":0.14444444444444446,\"xanchor\":\"center\",\"xref\":\"paper\",\"y\":1.0,\"yanchor\":\"bottom\",\"yref\":\"paper\"},{\"font\":{\"size\":16},\"showarrow\":false,\"text\":\"VGG16 page_1 class_4\",\"x\":0.5,\"xanchor\":\"center\",\"xref\":\"paper\",\"y\":1.0,\"yanchor\":\"bottom\",\"yref\":\"paper\"},{\"font\":{\"size\":16},\"showarrow\":false,\"text\":\"VGG16 page_2 class_2\",\"x\":0.8555555555555556,\"xanchor\":\"center\",\"xref\":\"paper\",\"y\":1.0,\"yanchor\":\"bottom\",\"yref\":\"paper\"},{\"font\":{\"size\":16},\"showarrow\":false,\"text\":\"VGG16 page_2 class_4\",\"x\":0.14444444444444446,\"xanchor\":\"center\",\"xref\":\"paper\",\"y\":0.78,\"yanchor\":\"bottom\",\"yref\":\"paper\"},{\"font\":{\"size\":16},\"showarrow\":false,\"text\":\"VGG16 page_3 class_2\",\"x\":0.5,\"xanchor\":\"center\",\"xref\":\"paper\",\"y\":0.78,\"yanchor\":\"bottom\",\"yref\":\"paper\"},{\"font\":{\"size\":16},\"showarrow\":false,\"text\":\"VGG16 page_3 class_4\",\"x\":0.8555555555555556,\"xanchor\":\"center\",\"xref\":\"paper\",\"y\":0.78,\"yanchor\":\"bottom\",\"yref\":\"paper\"},{\"font\":{\"size\":16},\"showarrow\":false,\"text\":\"Eff page_1 class_2\",\"x\":0.14444444444444446,\"xanchor\":\"center\",\"xref\":\"paper\",\"y\":0.56,\"yanchor\":\"bottom\",\"yref\":\"paper\"},{\"font\":{\"size\":16},\"showarrow\":false,\"text\":\"Eff page_1 class_4\",\"x\":0.5,\"xanchor\":\"center\",\"xref\":\"paper\",\"y\":0.56,\"yanchor\":\"bottom\",\"yref\":\"paper\"},{\"font\":{\"size\":16},\"showarrow\":false,\"text\":\"Eff page_2 class_2\",\"x\":0.8555555555555556,\"xanchor\":\"center\",\"xref\":\"paper\",\"y\":0.56,\"yanchor\":\"bottom\",\"yref\":\"paper\"},{\"font\":{\"size\":16},\"showarrow\":false,\"text\":\"Eff page_2 class_4\",\"x\":0.14444444444444446,\"xanchor\":\"center\",\"xref\":\"paper\",\"y\":0.33999999999999997,\"yanchor\":\"bottom\",\"yref\":\"paper\"},{\"font\":{\"size\":16},\"showarrow\":false,\"text\":\"Eff page_3 class_2\",\"x\":0.5,\"xanchor\":\"center\",\"xref\":\"paper\",\"y\":0.33999999999999997,\"yanchor\":\"bottom\",\"yref\":\"paper\"},{\"font\":{\"size\":16},\"showarrow\":false,\"text\":\"Eff page_3 class_4\",\"x\":0.8555555555555556,\"xanchor\":\"center\",\"xref\":\"paper\",\"y\":0.33999999999999997,\"yanchor\":\"bottom\",\"yref\":\"paper\"},{\"font\":{\"size\":16},\"showarrow\":false,\"text\":\"All Training Losses In One Plot\",\"x\":0.5,\"xanchor\":\"center\",\"xref\":\"paper\",\"y\":0.12,\"yanchor\":\"bottom\",\"yref\":\"paper\"}],\"height\":2000,\"showlegend\":false,\"template\":{\"data\":{\"bar\":[{\"error_x\":{\"color\":\"#2a3f5f\"},\"error_y\":{\"color\":\"#2a3f5f\"},\"marker\":{\"line\":{\"color\":\"#E5ECF6\",\"width\":0.5},\"pattern\":{\"fillmode\":\"overlay\",\"size\":10,\"solidity\":0.2}},\"type\":\"bar\"}],\"barpolar\":[{\"marker\":{\"line\":{\"color\":\"#E5ECF6\",\"width\":0.5},\"pattern\":{\"fillmode\":\"overlay\",\"size\":10,\"solidity\":0.2}},\"type\":\"barpolar\"}],\"carpet\":[{\"aaxis\":{\"endlinecolor\":\"#2a3f5f\",\"gridcolor\":\"white\",\"linecolor\":\"white\",\"minorgridcolor\":\"white\",\"startlinecolor\":\"#2a3f5f\"},\"baxis\":{\"endlinecolor\":\"#2a3f5f\",\"gridcolor\":\"white\",\"linecolor\":\"white\",\"minorgridcolor\":\"white\",\"startlinecolor\":\"#2a3f5f\"},\"type\":\"carpet\"}],\"choropleth\":[{\"colorbar\":{\"outlinewidth\":0,\"ticks\":\"\"},\"type\":\"choropleth\"}],\"contour\":[{\"colorbar\":{\"outlinewidth\":0,\"ticks\":\"\"},\"colorscale\":[[0.0,\"#0d0887\"],[0.1111111111111111,\"#46039f\"],[0.2222222222222222,\"#7201a8\"],[0.3333333333333333,\"#9c179e\"],[0.4444444444444444,\"#bd3786\"],[0.5555555555555556,\"#d8576b\"],[0.6666666666666666,\"#ed7953\"],[0.7777777777777778,\"#fb9f3a\"],[0.8888888888888888,\"#fdca26\"],[1.0,\"#f0f921\"]],\"type\":\"contour\"}],\"contourcarpet\":[{\"colorbar\":{\"outlinewidth\":0,\"ticks\":\"\"},\"type\":\"contourcarpet\"}],\"heatmap\":[{\"colorbar\":{\"outlinewidth\":0,\"ticks\":\"\"},\"colorscale\":[[0.0,\"#0d0887\"],[0.1111111111111111,\"#46039f\"],[0.2222222222222222,\"#7201a8\"],[0.3333333333333333,\"#9c179e\"],[0.4444444444444444,\"#bd3786\"],[0.5555555555555556,\"#d8576b\"],[0.6666666666666666,\"#ed7953\"],[0.7777777777777778,\"#fb9f3a\"],[0.8888888888888888,\"#fdca26\"],[1.0,\"#f0f921\"]],\"type\":\"heatmap\"}],\"heatmapgl\":[{\"colorbar\":{\"outlinewidth\":0,\"ticks\":\"\"},\"colorscale\":[[0.0,\"#0d0887\"],[0.1111111111111111,\"#46039f\"],[0.2222222222222222,\"#7201a8\"],[0.3333333333333333,\"#9c179e\"],[0.4444444444444444,\"#bd3786\"],[0.5555555555555556,\"#d8576b\"],[0.6666666666666666,\"#ed7953\"],[0.7777777777777778,\"#fb9f3a\"],[0.8888888888888888,\"#fdca26\"],[1.0,\"#f0f921\"]],\"type\":\"heatmapgl\"}],\"histogram\":[{\"marker\":{\"pattern\":{\"fillmode\":\"overlay\",\"size\":10,\"solidity\":0.2}},\"type\":\"histogram\"}],\"histogram2d\":[{\"colorbar\":{\"outlinewidth\":0,\"ticks\":\"\"},\"colorscale\":[[0.0,\"#0d0887\"],[0.1111111111111111,\"#46039f\"],[0.2222222222222222,\"#7201a8\"],[0.3333333333333333,\"#9c179e\"],[0.4444444444444444,\"#bd3786\"],[0.5555555555555556,\"#d8576b\"],[0.6666666666666666,\"#ed7953\"],[0.7777777777777778,\"#fb9f3a\"],[0.8888888888888888,\"#fdca26\"],[1.0,\"#f0f921\"]],\"type\":\"histogram2d\"}],\"histogram2dcontour\":[{\"colorbar\":{\"outlinewidth\":0,\"ticks\":\"\"},\"colorscale\":[[0.0,\"#0d0887\"],[0.1111111111111111,\"#46039f\"],[0.2222222222222222,\"#7201a8\"],[0.3333333333333333,\"#9c179e\"],[0.4444444444444444,\"#bd3786\"],[0.5555555555555556,\"#d8576b\"],[0.6666666666666666,\"#ed7953\"],[0.7777777777777778,\"#fb9f3a\"],[0.8888888888888888,\"#fdca26\"],[1.0,\"#f0f921\"]],\"type\":\"histogram2dcontour\"}],\"mesh3d\":[{\"colorbar\":{\"outlinewidth\":0,\"ticks\":\"\"},\"type\":\"mesh3d\"}],\"parcoords\":[{\"line\":{\"colorbar\":{\"outlinewidth\":0,\"ticks\":\"\"}},\"type\":\"parcoords\"}],\"pie\":[{\"automargin\":true,\"type\":\"pie\"}],\"scatter\":[{\"marker\":{\"colorbar\":{\"outlinewidth\":0,\"ticks\":\"\"}},\"type\":\"scatter\"}],\"scatter3d\":[{\"line\":{\"colorbar\":{\"outlinewidth\":0,\"ticks\":\"\"}},\"marker\":{\"colorbar\":{\"outlinewidth\":0,\"ticks\":\"\"}},\"type\":\"scatter3d\"}],\"scattercarpet\":[{\"marker\":{\"colorbar\":{\"outlinewidth\":0,\"ticks\":\"\"}},\"type\":\"scattercarpet\"}],\"scattergeo\":[{\"marker\":{\"colorbar\":{\"outlinewidth\":0,\"ticks\":\"\"}},\"type\":\"scattergeo\"}],\"scattergl\":[{\"marker\":{\"colorbar\":{\"outlinewidth\":0,\"ticks\":\"\"}},\"type\":\"scattergl\"}],\"scattermapbox\":[{\"marker\":{\"colorbar\":{\"outlinewidth\":0,\"ticks\":\"\"}},\"type\":\"scattermapbox\"}],\"scatterpolar\":[{\"marker\":{\"colorbar\":{\"outlinewidth\":0,\"ticks\":\"\"}},\"type\":\"scatterpolar\"}],\"scatterpolargl\":[{\"marker\":{\"colorbar\":{\"outlinewidth\":0,\"ticks\":\"\"}},\"type\":\"scatterpolargl\"}],\"scatterternary\":[{\"marker\":{\"colorbar\":{\"outlinewidth\":0,\"ticks\":\"\"}},\"type\":\"scatterternary\"}],\"surface\":[{\"colorbar\":{\"outlinewidth\":0,\"ticks\":\"\"},\"colorscale\":[[0.0,\"#0d0887\"],[0.1111111111111111,\"#46039f\"],[0.2222222222222222,\"#7201a8\"],[0.3333333333333333,\"#9c179e\"],[0.4444444444444444,\"#bd3786\"],[0.5555555555555556,\"#d8576b\"],[0.6666666666666666,\"#ed7953\"],[0.7777777777777778,\"#fb9f3a\"],[0.8888888888888888,\"#fdca26\"],[1.0,\"#f0f921\"]],\"type\":\"surface\"}],\"table\":[{\"cells\":{\"fill\":{\"color\":\"#EBF0F8\"},\"line\":{\"color\":\"white\"}},\"header\":{\"fill\":{\"color\":\"#C8D4E3\"},\"line\":{\"color\":\"white\"}},\"type\":\"table\"}]},\"layout\":{\"annotationdefaults\":{\"arrowcolor\":\"#2a3f5f\",\"arrowhead\":0,\"arrowwidth\":1},\"autotypenumbers\":\"strict\",\"coloraxis\":{\"colorbar\":{\"outlinewidth\":0,\"ticks\":\"\"}},\"colorscale\":{\"diverging\":[[0,\"#8e0152\"],[0.1,\"#c51b7d\"],[0.2,\"#de77ae\"],[0.3,\"#f1b6da\"],[0.4,\"#fde0ef\"],[0.5,\"#f7f7f7\"],[0.6,\"#e6f5d0\"],[0.7,\"#b8e186\"],[0.8,\"#7fbc41\"],[0.9,\"#4d9221\"],[1,\"#276419\"]],\"sequential\":[[0.0,\"#0d0887\"],[0.1111111111111111,\"#46039f\"],[0.2222222222222222,\"#7201a8\"],[0.3333333333333333,\"#9c179e\"],[0.4444444444444444,\"#bd3786\"],[0.5555555555555556,\"#d8576b\"],[0.6666666666666666,\"#ed7953\"],[0.7777777777777778,\"#fb9f3a\"],[0.8888888888888888,\"#fdca26\"],[1.0,\"#f0f921\"]],\"sequentialminus\":[[0.0,\"#0d0887\"],[0.1111111111111111,\"#46039f\"],[0.2222222222222222,\"#7201a8\"],[0.3333333333333333,\"#9c179e\"],[0.4444444444444444,\"#bd3786\"],[0.5555555555555556,\"#d8576b\"],[0.6666666666666666,\"#ed7953\"],[0.7777777777777778,\"#fb9f3a\"],[0.8888888888888888,\"#fdca26\"],[1.0,\"#f0f921\"]]},\"colorway\":[\"#636efa\",\"#EF553B\",\"#00cc96\",\"#ab63fa\",\"#FFA15A\",\"#19d3f3\",\"#FF6692\",\"#B6E880\",\"#FF97FF\",\"#FECB52\"],\"font\":{\"color\":\"#2a3f5f\"},\"geo\":{\"bgcolor\":\"white\",\"lakecolor\":\"white\",\"landcolor\":\"#E5ECF6\",\"showlakes\":true,\"showland\":true,\"subunitcolor\":\"white\"},\"hoverlabel\":{\"align\":\"left\"},\"hovermode\":\"closest\",\"mapbox\":{\"style\":\"light\"},\"paper_bgcolor\":\"white\",\"plot_bgcolor\":\"#E5ECF6\",\"polar\":{\"angularaxis\":{\"gridcolor\":\"white\",\"linecolor\":\"white\",\"ticks\":\"\"},\"bgcolor\":\"#E5ECF6\",\"radialaxis\":{\"gridcolor\":\"white\",\"linecolor\":\"white\",\"ticks\":\"\"}},\"scene\":{\"xaxis\":{\"backgroundcolor\":\"#E5ECF6\",\"gridcolor\":\"white\",\"gridwidth\":2,\"linecolor\":\"white\",\"showbackground\":true,\"ticks\":\"\",\"zerolinecolor\":\"white\"},\"yaxis\":{\"backgroundcolor\":\"#E5ECF6\",\"gridcolor\":\"white\",\"gridwidth\":2,\"linecolor\":\"white\",\"showbackground\":true,\"ticks\":\"\",\"zerolinecolor\":\"white\"},\"zaxis\":{\"backgroundcolor\":\"#E5ECF6\",\"gridcolor\":\"white\",\"gridwidth\":2,\"linecolor\":\"white\",\"showbackground\":true,\"ticks\":\"\",\"zerolinecolor\":\"white\"}},\"shapedefaults\":{\"line\":{\"color\":\"#2a3f5f\"}},\"ternary\":{\"aaxis\":{\"gridcolor\":\"white\",\"linecolor\":\"white\",\"ticks\":\"\"},\"baxis\":{\"gridcolor\":\"white\",\"linecolor\":\"white\",\"ticks\":\"\"},\"bgcolor\":\"#E5ECF6\",\"caxis\":{\"gridcolor\":\"white\",\"linecolor\":\"white\",\"ticks\":\"\"}},\"title\":{\"x\":0.05},\"xaxis\":{\"automargin\":true,\"gridcolor\":\"white\",\"linecolor\":\"white\",\"ticks\":\"\",\"title\":{\"standoff\":15},\"zerolinecolor\":\"white\",\"zerolinewidth\":2},\"yaxis\":{\"automargin\":true,\"gridcolor\":\"white\",\"linecolor\":\"white\",\"ticks\":\"\",\"title\":{\"standoff\":15},\"zerolinecolor\":\"white\",\"zerolinewidth\":2}}},\"title\":{\"text\":\"Plot of Train Running Loss of All Models\"},\"width\":2000,\"xaxis\":{\"anchor\":\"y\",\"domain\":[0.0,0.2888888888888889],\"title\":{\"text\":\"Epochs\"}},\"xaxis10\":{\"anchor\":\"y10\",\"domain\":[0.0,0.2888888888888889],\"title\":{\"text\":\"Epochs\"}},\"xaxis11\":{\"anchor\":\"y11\",\"domain\":[0.35555555555555557,0.6444444444444445],\"title\":{\"text\":\"Epochs\"}},\"xaxis12\":{\"anchor\":\"y12\",\"domain\":[0.7111111111111111,1.0],\"title\":{\"text\":\"Epochs\"}},\"xaxis13\":{\"anchor\":\"y13\",\"domain\":[0.0,1.0],\"title\":{\"text\":\"Epochs\"}},\"xaxis2\":{\"anchor\":\"y2\",\"domain\":[0.35555555555555557,0.6444444444444445],\"title\":{\"text\":\"Epochs\"}},\"xaxis3\":{\"anchor\":\"y3\",\"domain\":[0.7111111111111111,1.0],\"title\":{\"text\":\"Epochs\"}},\"xaxis4\":{\"anchor\":\"y4\",\"domain\":[0.0,0.2888888888888889],\"title\":{\"text\":\"Epochs\"}},\"xaxis5\":{\"anchor\":\"y5\",\"domain\":[0.35555555555555557,0.6444444444444445],\"title\":{\"text\":\"Epochs\"}},\"xaxis6\":{\"anchor\":\"y6\",\"domain\":[0.7111111111111111,1.0],\"title\":{\"text\":\"Epochs\"}},\"xaxis7\":{\"anchor\":\"y7\",\"domain\":[0.0,0.2888888888888889],\"title\":{\"text\":\"Epochs\"}},\"xaxis8\":{\"anchor\":\"y8\",\"domain\":[0.35555555555555557,0.6444444444444445],\"title\":{\"text\":\"Epochs\"}},\"xaxis9\":{\"anchor\":\"y9\",\"domain\":[0.7111111111111111,1.0],\"title\":{\"text\":\"Epochs\"}},\"yaxis\":{\"anchor\":\"x\",\"domain\":[0.88,1.0],\"title\":{\"text\":\"Loss\"}},\"yaxis10\":{\"anchor\":\"x10\",\"domain\":[0.22,0.33999999999999997],\"title\":{\"text\":\"Loss\"}},\"yaxis11\":{\"anchor\":\"x11\",\"domain\":[0.22,0.33999999999999997],\"title\":{\"text\":\"Loss\"}},\"yaxis12\":{\"anchor\":\"x12\",\"domain\":[0.22,0.33999999999999997],\"title\":{\"text\":\"Loss\"}},\"yaxis13\":{\"anchor\":\"x13\",\"domain\":[0.0,0.12],\"title\":{\"text\":\"Loss\"}},\"yaxis2\":{\"anchor\":\"x2\",\"domain\":[0.88,1.0],\"title\":{\"text\":\"Loss\"}},\"yaxis3\":{\"anchor\":\"x3\",\"domain\":[0.88,1.0],\"title\":{\"text\":\"Loss\"}},\"yaxis4\":{\"anchor\":\"x4\",\"domain\":[0.66,0.78],\"title\":{\"text\":\"Loss\"}},\"yaxis5\":{\"anchor\":\"x5\",\"domain\":[0.66,0.78],\"title\":{\"text\":\"Loss\"}},\"yaxis6\":{\"anchor\":\"x6\",\"domain\":[0.66,0.78],\"title\":{\"text\":\"Loss\"}},\"yaxis7\":{\"anchor\":\"x7\",\"domain\":[0.44,0.56],\"title\":{\"text\":\"Loss\"}},\"yaxis8\":{\"anchor\":\"x8\",\"domain\":[0.44,0.56],\"title\":{\"text\":\"Loss\"}},\"yaxis9\":{\"anchor\":\"x9\",\"domain\":[0.44,0.56],\"title\":{\"text\":\"Loss\"}}},                        {\"responsive\": true}                    ).then(function(){\n",
       "                            \n",
       "var gd = document.getElementById('b0f34f61-c31e-4d13-9305-241a13a80332');\n",
       "var x = new MutationObserver(function (mutations, observer) {{\n",
       "        var display = window.getComputedStyle(gd).display;\n",
       "        if (!display || display === 'none') {{\n",
       "            console.log([gd, 'removed!']);\n",
       "            Plotly.purge(gd);\n",
       "            observer.disconnect();\n",
       "        }}\n",
       "}});\n",
       "\n",
       "// Listen for the removal of the full notebook cells\n",
       "var notebookContainer = gd.closest('#notebook-container');\n",
       "if (notebookContainer) {{\n",
       "    x.observe(notebookContainer, {childList: true});\n",
       "}}\n",
       "\n",
       "// Listen for the clearing of the current output cell\n",
       "var outputEl = gd.closest('.output');\n",
       "if (outputEl) {{\n",
       "    x.observe(outputEl, {childList: true});\n",
       "}}\n",
       "\n",
       "                        })                };                });            </script>        </div>"
      ]
     },
     "metadata": {},
     "output_type": "display_data"
    }
   ],
   "source": [
    "plt = reporting_util.make_loss_plots(analytics)\n",
    "plt.show()"
   ]
  },
  {
   "cell_type": "code",
   "execution_count": 9,
   "metadata": {},
   "outputs": [
    {
     "name": "stdout",
     "output_type": "stream",
     "text": [
      ">>> VGG16 page_1 class_2\n",
      "              precision    recall  f1-score   support\n",
      "\n",
      "           0       0.88      0.83      0.86       109\n",
      "           1       0.88      0.92      0.90       150\n",
      "\n",
      "    accuracy                           0.88       259\n",
      "   macro avg       0.88      0.88      0.88       259\n",
      "weighted avg       0.88      0.88      0.88       259\n",
      "\n",
      ">>> VGG16 page_1 class_4\n",
      "              precision    recall  f1-score   support\n",
      "\n",
      "           0       0.91      0.78      0.84       106\n",
      "           1       0.86      0.95      0.90       153\n",
      "\n",
      "    accuracy                           0.88       259\n",
      "   macro avg       0.89      0.87      0.87       259\n",
      "weighted avg       0.88      0.88      0.88       259\n",
      "\n",
      ">>> VGG16 page_2 class_2\n",
      "              precision    recall  f1-score   support\n",
      "\n",
      "           0       0.91      0.88      0.89       109\n",
      "           1       0.92      0.93      0.92       150\n",
      "\n",
      "    accuracy                           0.91       259\n",
      "   macro avg       0.91      0.91      0.91       259\n",
      "weighted avg       0.91      0.91      0.91       259\n",
      "\n",
      ">>> VGG16 page_2 class_4\n",
      "              precision    recall  f1-score   support\n",
      "\n",
      "           0       0.90      0.84      0.87       106\n",
      "           1       0.89      0.93      0.91       153\n",
      "\n",
      "    accuracy                           0.90       259\n",
      "   macro avg       0.90      0.89      0.89       259\n",
      "weighted avg       0.90      0.90      0.90       259\n",
      "\n",
      ">>> VGG16 page_3 class_2\n",
      "              precision    recall  f1-score   support\n",
      "\n",
      "           0       0.82      0.95      0.88       109\n",
      "           1       0.96      0.85      0.90       150\n",
      "\n",
      "    accuracy                           0.89       259\n",
      "   macro avg       0.89      0.90      0.89       259\n",
      "weighted avg       0.90      0.89      0.89       259\n",
      "\n",
      ">>> VGG16 page_3 class_4\n",
      "              precision    recall  f1-score   support\n",
      "\n",
      "           0       0.87      0.92      0.89       106\n",
      "           1       0.94      0.90      0.92       153\n",
      "\n",
      "    accuracy                           0.91       259\n",
      "   macro avg       0.90      0.91      0.90       259\n",
      "weighted avg       0.91      0.91      0.91       259\n",
      "\n",
      ">>> Eff page_1 class_2\n",
      "              precision    recall  f1-score   support\n",
      "\n",
      "           0       0.63      0.83      0.72       109\n",
      "           1       0.84      0.64      0.73       150\n",
      "\n",
      "    accuracy                           0.72       259\n",
      "   macro avg       0.73      0.74      0.72       259\n",
      "weighted avg       0.75      0.72      0.72       259\n",
      "\n",
      ">>> Eff page_1 class_4\n",
      "              precision    recall  f1-score   support\n",
      "\n",
      "           0       0.48      0.96      0.64       106\n",
      "           1       0.91      0.27      0.42       153\n",
      "\n",
      "    accuracy                           0.56       259\n",
      "   macro avg       0.70      0.62      0.53       259\n",
      "weighted avg       0.74      0.56      0.51       259\n",
      "\n",
      ">>> Eff page_2 class_2\n",
      "              precision    recall  f1-score   support\n",
      "\n",
      "           0       0.73      0.78      0.76       109\n",
      "           1       0.83      0.79      0.81       150\n",
      "\n",
      "    accuracy                           0.79       259\n",
      "   macro avg       0.78      0.79      0.78       259\n",
      "weighted avg       0.79      0.79      0.79       259\n",
      "\n",
      ">>> Eff page_2 class_4\n",
      "              precision    recall  f1-score   support\n",
      "\n",
      "           0       0.68      0.77      0.72       106\n",
      "           1       0.83      0.75      0.78       153\n",
      "\n",
      "    accuracy                           0.76       259\n",
      "   macro avg       0.75      0.76      0.75       259\n",
      "weighted avg       0.77      0.76      0.76       259\n",
      "\n",
      ">>> Eff page_3 class_2\n",
      "              precision    recall  f1-score   support\n",
      "\n",
      "           0       0.77      0.80      0.78       109\n",
      "           1       0.85      0.83      0.84       150\n",
      "\n",
      "    accuracy                           0.81       259\n",
      "   macro avg       0.81      0.81      0.81       259\n",
      "weighted avg       0.82      0.81      0.82       259\n",
      "\n",
      ">>> Eff page_3 class_4\n",
      "              precision    recall  f1-score   support\n",
      "\n",
      "           0       0.84      0.76      0.80       106\n",
      "           1       0.85      0.90      0.87       153\n",
      "\n",
      "    accuracy                           0.85       259\n",
      "   macro avg       0.85      0.83      0.84       259\n",
      "weighted avg       0.85      0.85      0.84       259\n",
      "\n"
     ]
    }
   ],
   "source": [
    "from sklearn.metrics import classification_report\n",
    "\n",
    "for result in analytics:\n",
    "    report = classification_report(result.test_targets, result.test_preds)\n",
    "    print('>>> %s' % result.architecture)\n",
    "    print(report)"
   ]
  },
  {
   "cell_type": "code",
   "execution_count": 11,
   "metadata": {},
   "outputs": [
    {
     "data": {
      "image/png": "[encoded data removed]",
      "text/plain": [
       "<Figure size 1440x2160 with 24 Axes>"
      ]
     },
     "metadata": {
      "needs_background": "light"
     },
     "output_type": "display_data"
    }
   ],
   "source": [
    "from sklearn.metrics import confusion_matrix, ConfusionMatrixDisplay\n",
    "import matplotlib.pyplot as plt\n",
    "\n",
    "nrows = len(analytics)//3 + len(analytics)%3\n",
    "\n",
    "fig, axes = plt.subplots(nrows=nrows, ncols=3, figsize=(20,30))\n",
    "\n",
    "for result, ax in zip(analytics, axes.flatten()):\n",
    "    matrix = confusion_matrix(result.test_targets, result.test_preds)\n",
    "    labels = ['SD','ND']\n",
    "    disp = ConfusionMatrixDisplay(confusion_matrix=matrix, display_labels=labels)\n",
    "    disp.plot(cmap='Blues', ax=ax)\n",
    "    ax.title.set_text(result.architecture)\n",
    "plt.tight_layout()  \n",
    "plt.show()"
   ]
  },
  {
   "cell_type": "code",
   "execution_count": 13,
   "metadata": {},
   "outputs": [
    {
     "data": {
      "application/vnd.plotly.v1+json": {
       "config": {
        "plotlyServerURL": "https://plot.ly"
       },
       "data": [
        {
         "line": {
          "width": 1
         },
         "name": "VGG16 page_1 class_2_validation",
         "opacity": 0.8,
         "type": "scatter",
         "x": [
          1,
          2,
          3,
          4,
          5,
          6,
          7,
          8,
          9,
          10
         ],
         "xaxis": "x",
         "y": [
          0.6044720684062866,
          0.5223685104506356,
          0.4773256411296981,
          0.44952596434525083,
          0.4479247069358826,
          0.4268395536002658,
          0.4306207556525866,
          0.47962195139555697,
          0.4340088939524832,
          0.4094243719606173
         ],
         "yaxis": "y"
        },
        {
         "line": {
          "width": 1
         },
         "name": "VGG16 page_1 class_2",
         "opacity": 0.8,
         "type": "scatter",
         "x": [
          1,
          2,
          3,
          4,
          5,
          6,
          7,
          8,
          9,
          10
         ],
         "xaxis": "x13",
         "y": [
          0.6044720684062866,
          0.5223685104506356,
          0.4773256411296981,
          0.44952596434525083,
          0.4479247069358826,
          0.4268395536002658,
          0.4306207556525866,
          0.47962195139555697,
          0.4340088939524832,
          0.4094243719606173
         ],
         "yaxis": "y13"
        },
        {
         "line": {
          "width": 1
         },
         "name": "VGG16 page_1 class_4_validation",
         "opacity": 0.8,
         "type": "scatter",
         "x": [
          1,
          2,
          3,
          4,
          5,
          6,
          7,
          8,
          9,
          10
         ],
         "xaxis": "x2",
         "y": [
          1.2987154285113018,
          1.2689082496506827,
          1.2262902534008027,
          1.1936566468079886,
          1.1687019314084737,
          1.1479294813814618,
          1.0687327091466812,
          1.0439107947122486,
          1.0253171308267686,
          1.0134918903169177
         ],
         "yaxis": "y2"
        },
        {
         "line": {
          "width": 1
         },
         "name": "VGG16 page_1 class_4",
         "opacity": 0.8,
         "type": "scatter",
         "x": [
          1,
          2,
          3,
          4,
          5,
          6,
          7,
          8,
          9,
          10
         ],
         "xaxis": "x13",
         "y": [
          1.2987154285113018,
          1.2689082496506827,
          1.2262902534008027,
          1.1936566468079886,
          1.1687019314084737,
          1.1479294813814618,
          1.0687327091466812,
          1.0439107947122486,
          1.0253171308267686,
          1.0134918903169177
         ],
         "yaxis": "y13"
        },
        {
         "line": {
          "width": 1
         },
         "name": "VGG16 page_2 class_2_validation",
         "opacity": 0.8,
         "type": "scatter",
         "x": [
          1,
          2,
          3,
          4,
          5,
          6,
          7,
          8,
          9,
          10
         ],
         "xaxis": "x3",
         "y": [
          0.6163466597738719,
          0.5202488734608605,
          0.46552064025685896,
          0.4317100275272415,
          0.41843551361844655,
          0.4181154364347458,
          0.410743640278067,
          0.40626048239923657,
          0.43082986246971855,
          0.4120954653620719
         ],
         "yaxis": "y3"
        },
        {
         "line": {
          "width": 1
         },
         "name": "VGG16 page_2 class_2",
         "opacity": 0.8,
         "type": "scatter",
         "x": [
          1,
          2,
          3,
          4,
          5,
          6,
          7,
          8,
          9,
          10
         ],
         "xaxis": "x13",
         "y": [
          0.6163466597738719,
          0.5202488734608605,
          0.46552064025685896,
          0.4317100275272415,
          0.41843551361844655,
          0.4181154364347458,
          0.410743640278067,
          0.40626048239923657,
          0.43082986246971855,
          0.4120954653620719
         ],
         "yaxis": "y13"
        },
        {
         "line": {
          "width": 1
         },
         "name": "VGG16 page_2 class_4_validation",
         "opacity": 0.8,
         "type": "scatter",
         "x": [
          1,
          2,
          3,
          4,
          5,
          6,
          7,
          8,
          9,
          10
         ],
         "xaxis": "x4",
         "y": [
          1.3077057953107925,
          1.2781552804651715,
          1.2421252036662331,
          1.1897564245973313,
          1.1635040427957262,
          1.1319729249817985,
          1.0924896272591182,
          1.0662587581929706,
          1.0418427600179399,
          1.0279726736886161
         ],
         "yaxis": "y4"
        },
        {
         "line": {
          "width": 1
         },
         "name": "VGG16 page_2 class_4",
         "opacity": 0.8,
         "type": "scatter",
         "x": [
          1,
          2,
          3,
          4,
          5,
          6,
          7,
          8,
          9,
          10
         ],
         "xaxis": "x13",
         "y": [
          1.3077057953107925,
          1.2781552804651715,
          1.2421252036662331,
          1.1897564245973313,
          1.1635040427957262,
          1.1319729249817985,
          1.0924896272591182,
          1.0662587581929706,
          1.0418427600179399,
          1.0279726736886161
         ],
         "yaxis": "y13"
        },
        {
         "line": {
          "width": 1
         },
         "name": "VGG16 page_3 class_2_validation",
         "opacity": 0.8,
         "type": "scatter",
         "x": [
          1,
          2,
          3,
          4,
          5,
          6,
          7,
          8,
          9,
          10
         ],
         "xaxis": "x5",
         "y": [
          0.6378213086866198,
          0.5632645990451176,
          0.4758275184461048,
          0.4519549840546789,
          0.428837695533321,
          0.4282527886969702,
          0.42120179042929695,
          0.421835265258948,
          0.41310768783092505,
          0.4444303770292373
         ],
         "yaxis": "y5"
        },
        {
         "line": {
          "width": 1
         },
         "name": "VGG16 page_3 class_2",
         "opacity": 0.8,
         "type": "scatter",
         "x": [
          1,
          2,
          3,
          4,
          5,
          6,
          7,
          8,
          9,
          10
         ],
         "xaxis": "x13",
         "y": [
          0.6378213086866198,
          0.5632645990451176,
          0.4758275184461048,
          0.4519549840546789,
          0.428837695533321,
          0.4282527886969702,
          0.42120179042929695,
          0.421835265258948,
          0.41310768783092505,
          0.4444303770292373
         ],
         "yaxis": "y13"
        },
        {
         "line": {
          "width": 1
         },
         "name": "VGG16 page_3 class_4_validation",
         "opacity": 0.8,
         "type": "scatter",
         "x": [
          1,
          2,
          3,
          4,
          5,
          6,
          7,
          8,
          9,
          10
         ],
         "xaxis": "x6",
         "y": [
          1.2989468135720208,
          1.2463519541422525,
          1.2286999740487052,
          1.2188519908133006,
          1.088314500990368,
          0.9827844262123108,
          0.9564117164838882,
          0.9320464361849286,
          0.9459265884047463,
          0.9281448010035925
         ],
         "yaxis": "y6"
        },
        {
         "line": {
          "width": 1
         },
         "name": "VGG16 page_3 class_4",
         "opacity": 0.8,
         "type": "scatter",
         "x": [
          1,
          2,
          3,
          4,
          5,
          6,
          7,
          8,
          9,
          10
         ],
         "xaxis": "x13",
         "y": [
          1.2989468135720208,
          1.2463519541422525,
          1.2286999740487052,
          1.2188519908133006,
          1.088314500990368,
          0.9827844262123108,
          0.9564117164838882,
          0.9320464361849286,
          0.9459265884047463,
          0.9281448010035925
         ],
         "yaxis": "y13"
        },
        {
         "line": {
          "width": 1
         },
         "name": "Eff page_1 class_2_validation",
         "opacity": 0.8,
         "type": "scatter",
         "x": [
          1,
          2,
          3,
          4,
          5,
          6,
          7,
          8,
          9,
          10
         ],
         "xaxis": "x7",
         "y": [
          0.6895629038129533,
          0.7503687470583689,
          0.7343002449614661,
          0.7796094528834026,
          0.8221658286310376,
          0.7721810745341438,
          0.7074696016595476,
          0.6043112185455505,
          0.6242145993028368,
          0.5903707224982125
         ],
         "yaxis": "y7"
        },
        {
         "line": {
          "width": 1
         },
         "name": "Eff page_1 class_2",
         "opacity": 0.8,
         "type": "scatter",
         "x": [
          1,
          2,
          3,
          4,
          5,
          6,
          7,
          8,
          9,
          10
         ],
         "xaxis": "x13",
         "y": [
          0.6895629038129533,
          0.7503687470583689,
          0.7343002449614661,
          0.7796094528834026,
          0.8221658286310376,
          0.7721810745341438,
          0.7074696016595476,
          0.6043112185455505,
          0.6242145993028368,
          0.5903707224982125
         ],
         "yaxis": "y13"
        },
        {
         "line": {
          "width": 1
         },
         "name": "Eff page_1 class_4_validation",
         "opacity": 0.8,
         "type": "scatter",
         "x": [
          1,
          2,
          3,
          4,
          5,
          6,
          7,
          8,
          9,
          10
         ],
         "xaxis": "x8",
         "y": [
          1.3866484657355718,
          1.3828285935946873,
          1.397625133537111,
          1.4693219037283034,
          1.496751077118374,
          1.5214983392329444,
          1.3715804638749078,
          1.3820871358258382,
          1.371591121412459,
          1.3860395256110596
         ],
         "yaxis": "y8"
        },
        {
         "line": {
          "width": 1
         },
         "name": "Eff page_1 class_4",
         "opacity": 0.8,
         "type": "scatter",
         "x": [
          1,
          2,
          3,
          4,
          5,
          6,
          7,
          8,
          9,
          10
         ],
         "xaxis": "x13",
         "y": [
          1.3866484657355718,
          1.3828285935946873,
          1.397625133537111,
          1.4693219037283034,
          1.496751077118374,
          1.5214983392329444,
          1.3715804638749078,
          1.3820871358258382,
          1.371591121412459,
          1.3860395256110596
         ],
         "yaxis": "y13"
        },
        {
         "line": {
          "width": 1
         },
         "name": "Eff page_2 class_2_validation",
         "opacity": 0.8,
         "type": "scatter",
         "x": [
          1,
          2,
          3,
          4,
          5,
          6,
          7,
          8,
          9,
          10
         ],
         "xaxis": "x9",
         "y": [
          0.6945357003098442,
          0.7460546178193319,
          0.6885516030163992,
          0.6092765910001028,
          0.6045176172824133,
          0.6148058486552467,
          0.6218195509626752,
          0.6396933097214925,
          0.5464245256497746,
          0.5173411706515721
         ],
         "yaxis": "y9"
        },
        {
         "line": {
          "width": 1
         },
         "name": "Eff page_2 class_2",
         "opacity": 0.8,
         "type": "scatter",
         "x": [
          1,
          2,
          3,
          4,
          5,
          6,
          7,
          8,
          9,
          10
         ],
         "xaxis": "x13",
         "y": [
          0.6945357003098442,
          0.7460546178193319,
          0.6885516030163992,
          0.6092765910001028,
          0.6045176172824133,
          0.6148058486552467,
          0.6218195509626752,
          0.6396933097214925,
          0.5464245256497746,
          0.5173411706515721
         ],
         "yaxis": "y13"
        },
        {
         "line": {
          "width": 1
         },
         "name": "Eff page_2 class_4_validation",
         "opacity": 0.8,
         "type": "scatter",
         "x": [
          1,
          2,
          3,
          4,
          5,
          6,
          7,
          8,
          9,
          10
         ],
         "xaxis": "x10",
         "y": [
          1.4020150211879183,
          1.4029435668105172,
          1.3724044917310985,
          1.3340453203519185,
          1.3245493348439534,
          1.3669255334990367,
          1.2828665570985702,
          1.2781802491346994,
          1.2453276581991286,
          1.2341417686144511
         ],
         "yaxis": "y10"
        },
        {
         "line": {
          "width": 1
         },
         "name": "Eff page_2 class_4",
         "opacity": 0.8,
         "type": "scatter",
         "x": [
          1,
          2,
          3,
          4,
          5,
          6,
          7,
          8,
          9,
          10
         ],
         "xaxis": "x13",
         "y": [
          1.4020150211879183,
          1.4029435668105172,
          1.3724044917310985,
          1.3340453203519185,
          1.3245493348439534,
          1.3669255334990367,
          1.2828665570985702,
          1.2781802491346994,
          1.2453276581991286,
          1.2341417686144511
         ],
         "yaxis": "y13"
        },
        {
         "line": {
          "width": 1
         },
         "name": "Eff page_3 class_2_validation",
         "opacity": 0.8,
         "type": "scatter",
         "x": [
          1,
          2,
          3,
          4,
          5,
          6,
          7,
          8,
          9,
          10
         ],
         "xaxis": "x11",
         "y": [
          0.6657075228009904,
          0.6732459764821189,
          0.5931214130492437,
          0.6213241104568754,
          0.5550372117757797,
          0.5545031407049724,
          0.546806817821094,
          0.5535971777779716,
          0.4982610022028287,
          0.45890338061820896
         ],
         "yaxis": "y11"
        },
        {
         "line": {
          "width": 1
         },
         "name": "Eff page_3 class_2",
         "opacity": 0.8,
         "type": "scatter",
         "x": [
          1,
          2,
          3,
          4,
          5,
          6,
          7,
          8,
          9,
          10
         ],
         "xaxis": "x13",
         "y": [
          0.6657075228009904,
          0.6732459764821189,
          0.5931214130492437,
          0.6213241104568754,
          0.5550372117757797,
          0.5545031407049724,
          0.546806817821094,
          0.5535971777779716,
          0.4982610022028287,
          0.45890338061820896
         ],
         "yaxis": "y13"
        },
        {
         "line": {
          "width": 1
         },
         "name": "Eff page_3 class_4_validation",
         "opacity": 0.8,
         "type": "scatter",
         "x": [
          1,
          2,
          3,
          4,
          5,
          6,
          7,
          8,
          9,
          10
         ],
         "xaxis": "x12",
         "y": [
          1.4152823031516302,
          1.395201109988349,
          1.303764151277996,
          1.2715994371119,
          1.2769792456286293,
          1.2657406169459935,
          1.318206200826736,
          1.1115691986538114,
          1.0580891608908065,
          1.0401993155763263
         ],
         "yaxis": "y12"
        },
        {
         "line": {
          "width": 1
         },
         "name": "Eff page_3 class_4",
         "opacity": 0.8,
         "type": "scatter",
         "x": [
          1,
          2,
          3,
          4,
          5,
          6,
          7,
          8,
          9,
          10
         ],
         "xaxis": "x13",
         "y": [
          1.4152823031516302,
          1.395201109988349,
          1.303764151277996,
          1.2715994371119,
          1.2769792456286293,
          1.2657406169459935,
          1.318206200826736,
          1.1115691986538114,
          1.0580891608908065,
          1.0401993155763263
         ],
         "yaxis": "y13"
        }
       ],
       "layout": {
        "annotations": [
         {
          "font": {
           "size": 16
          },
          "showarrow": false,
          "text": "VGG16 page_1 class_2",
          "x": 0.14444444444444446,
          "xanchor": "center",
          "xref": "paper",
          "y": 1,
          "yanchor": "bottom",
          "yref": "paper"
         },
         {
          "font": {
           "size": 16
          },
          "showarrow": false,
          "text": "VGG16 page_1 class_4",
          "x": 0.5,
          "xanchor": "center",
          "xref": "paper",
          "y": 1,
          "yanchor": "bottom",
          "yref": "paper"
         },
         {
          "font": {
           "size": 16
          },
          "showarrow": false,
          "text": "VGG16 page_2 class_2",
          "x": 0.8555555555555556,
          "xanchor": "center",
          "xref": "paper",
          "y": 1,
          "yanchor": "bottom",
          "yref": "paper"
         },
         {
          "font": {
           "size": 16
          },
          "showarrow": false,
          "text": "VGG16 page_2 class_4",
          "x": 0.14444444444444446,
          "xanchor": "center",
          "xref": "paper",
          "y": 0.78,
          "yanchor": "bottom",
          "yref": "paper"
         },
         {
          "font": {
           "size": 16
          },
          "showarrow": false,
          "text": "VGG16 page_3 class_2",
          "x": 0.5,
          "xanchor": "center",
          "xref": "paper",
          "y": 0.78,
          "yanchor": "bottom",
          "yref": "paper"
         },
         {
          "font": {
           "size": 16
          },
          "showarrow": false,
          "text": "VGG16 page_3 class_4",
          "x": 0.8555555555555556,
          "xanchor": "center",
          "xref": "paper",
          "y": 0.78,
          "yanchor": "bottom",
          "yref": "paper"
         },
         {
          "font": {
           "size": 16
          },
          "showarrow": false,
          "text": "Eff page_1 class_2",
          "x": 0.14444444444444446,
          "xanchor": "center",
          "xref": "paper",
          "y": 0.56,
          "yanchor": "bottom",
          "yref": "paper"
         },
         {
          "font": {
           "size": 16
          },
          "showarrow": false,
          "text": "Eff page_1 class_4",
          "x": 0.5,
          "xanchor": "center",
          "xref": "paper",
          "y": 0.56,
          "yanchor": "bottom",
          "yref": "paper"
         },
         {
          "font": {
           "size": 16
          },
          "showarrow": false,
          "text": "Eff page_2 class_2",
          "x": 0.8555555555555556,
          "xanchor": "center",
          "xref": "paper",
          "y": 0.56,
          "yanchor": "bottom",
          "yref": "paper"
         },
         {
          "font": {
           "size": 16
          },
          "showarrow": false,
          "text": "Eff page_2 class_4",
          "x": 0.14444444444444446,
          "xanchor": "center",
          "xref": "paper",
          "y": 0.33999999999999997,
          "yanchor": "bottom",
          "yref": "paper"
         },
         {
          "font": {
           "size": 16
          },
          "showarrow": false,
          "text": "Eff page_3 class_2",
          "x": 0.5,
          "xanchor": "center",
          "xref": "paper",
          "y": 0.33999999999999997,
          "yanchor": "bottom",
          "yref": "paper"
         },
         {
          "font": {
           "size": 16
          },
          "showarrow": false,
          "text": "Eff page_3 class_4",
          "x": 0.8555555555555556,
          "xanchor": "center",
          "xref": "paper",
          "y": 0.33999999999999997,
          "yanchor": "bottom",
          "yref": "paper"
         },
         {
          "font": {
           "size": 16
          },
          "showarrow": false,
          "text": "All Validationing Losses In One Plot",
          "x": 0.5,
          "xanchor": "center",
          "xref": "paper",
          "y": 0.12,
          "yanchor": "bottom",
          "yref": "paper"
         }
        ],
        "height": 2000,
        "showlegend": false,
        "template": {
         "data": {
          "bar": [
           {
            "error_x": {
             "color": "#2a3f5f"
            },
            "error_y": {
             "color": "#2a3f5f"
            },
            "marker": {
             "line": {
              "color": "#E5ECF6",
              "width": 0.5
             },
             "pattern": {
              "fillmode": "overlay",
              "size": 10,
              "solidity": 0.2
             }
            },
            "type": "bar"
           }
          ],
          "barpolar": [
           {
            "marker": {
             "line": {
              "color": "#E5ECF6",
              "width": 0.5
             },
             "pattern": {
              "fillmode": "overlay",
              "size": 10,
              "solidity": 0.2
             }
            },
            "type": "barpolar"
           }
          ],
          "carpet": [
           {
            "aaxis": {
             "endlinecolor": "#2a3f5f",
             "gridcolor": "white",
             "linecolor": "white",
             "minorgridcolor": "white",
             "startlinecolor": "#2a3f5f"
            },
            "baxis": {
             "endlinecolor": "#2a3f5f",
             "gridcolor": "white",
             "linecolor": "white",
             "minorgridcolor": "white",
             "startlinecolor": "#2a3f5f"
            },
            "type": "carpet"
           }
          ],
          "choropleth": [
           {
            "colorbar": {
             "outlinewidth": 0,
             "ticks": ""
            },
            "type": "choropleth"
           }
          ],
          "contour": [
           {
            "colorbar": {
             "outlinewidth": 0,
             "ticks": ""
            },
            "colorscale": [
             [
              0,
              "#0d0887"
             ],
             [
              0.1111111111111111,
              "#46039f"
             ],
             [
              0.2222222222222222,
              "#7201a8"
             ],
             [
              0.3333333333333333,
              "#9c179e"
             ],
             [
              0.4444444444444444,
              "#bd3786"
             ],
             [
              0.5555555555555556,
              "#d8576b"
             ],
             [
              0.6666666666666666,
              "#ed7953"
             ],
             [
              0.7777777777777778,
              "#fb9f3a"
             ],
             [
              0.8888888888888888,
              "#fdca26"
             ],
             [
              1,
              "#f0f921"
             ]
            ],
            "type": "contour"
           }
          ],
          "contourcarpet": [
           {
            "colorbar": {
             "outlinewidth": 0,
             "ticks": ""
            },
            "type": "contourcarpet"
           }
          ],
          "heatmap": [
           {
            "colorbar": {
             "outlinewidth": 0,
             "ticks": ""
            },
            "colorscale": [
             [
              0,
              "#0d0887"
             ],
             [
              0.1111111111111111,
              "#46039f"
             ],
             [
              0.2222222222222222,
              "#7201a8"
             ],
             [
              0.3333333333333333,
              "#9c179e"
             ],
             [
              0.4444444444444444,
              "#bd3786"
             ],
             [
              0.5555555555555556,
              "#d8576b"
             ],
             [
              0.6666666666666666,
              "#ed7953"
             ],
             [
              0.7777777777777778,
              "#fb9f3a"
             ],
             [
              0.8888888888888888,
              "#fdca26"
             ],
             [
              1,
              "#f0f921"
             ]
            ],
            "type": "heatmap"
           }
          ],
          "heatmapgl": [
           {
            "colorbar": {
             "outlinewidth": 0,
             "ticks": ""
            },
            "colorscale": [
             [
              0,
              "#0d0887"
             ],
             [
              0.1111111111111111,
              "#46039f"
             ],
             [
              0.2222222222222222,
              "#7201a8"
             ],
             [
              0.3333333333333333,
              "#9c179e"
             ],
             [
              0.4444444444444444,
              "#bd3786"
             ],
             [
              0.5555555555555556,
              "#d8576b"
             ],
             [
              0.6666666666666666,
              "#ed7953"
             ],
             [
              0.7777777777777778,
              "#fb9f3a"
             ],
             [
              0.8888888888888888,
              "#fdca26"
             ],
             [
              1,
              "#f0f921"
             ]
            ],
            "type": "heatmapgl"
           }
          ],
          "histogram": [
           {
            "marker": {
             "pattern": {
              "fillmode": "overlay",
              "size": 10,
              "solidity": 0.2
             }
            },
            "type": "histogram"
           }
          ],
          "histogram2d": [
           {
            "colorbar": {
             "outlinewidth": 0,
             "ticks": ""
            },
            "colorscale": [
             [
              0,
              "#0d0887"
             ],
             [
              0.1111111111111111,
              "#46039f"
             ],
             [
              0.2222222222222222,
              "#7201a8"
             ],
             [
              0.3333333333333333,
              "#9c179e"
             ],
             [
              0.4444444444444444,
              "#bd3786"
             ],
             [
              0.5555555555555556,
              "#d8576b"
             ],
             [
              0.6666666666666666,
              "#ed7953"
             ],
             [
              0.7777777777777778,
              "#fb9f3a"
             ],
             [
              0.8888888888888888,
              "#fdca26"
             ],
             [
              1,
              "#f0f921"
             ]
            ],
            "type": "histogram2d"
           }
          ],
          "histogram2dcontour": [
           {
            "colorbar": {
             "outlinewidth": 0,
             "ticks": ""
            },
            "colorscale": [
             [
              0,
              "#0d0887"
             ],
             [
              0.1111111111111111,
              "#46039f"
             ],
             [
              0.2222222222222222,
              "#7201a8"
             ],
             [
              0.3333333333333333,
              "#9c179e"
             ],
             [
              0.4444444444444444,
              "#bd3786"
             ],
             [
              0.5555555555555556,
              "#d8576b"
             ],
             [
              0.6666666666666666,
              "#ed7953"
             ],
             [
              0.7777777777777778,
              "#fb9f3a"
             ],
             [
              0.8888888888888888,
              "#fdca26"
             ],
             [
              1,
              "#f0f921"
             ]
            ],
            "type": "histogram2dcontour"
           }
          ],
          "mesh3d": [
           {
            "colorbar": {
             "outlinewidth": 0,
             "ticks": ""
            },
            "type": "mesh3d"
           }
          ],
          "parcoords": [
           {
            "line": {
             "colorbar": {
              "outlinewidth": 0,
              "ticks": ""
             }
            },
            "type": "parcoords"
           }
          ],
          "pie": [
           {
            "automargin": true,
            "type": "pie"
           }
          ],
          "scatter": [
           {
            "marker": {
             "colorbar": {
              "outlinewidth": 0,
              "ticks": ""
             }
            },
            "type": "scatter"
           }
          ],
          "scatter3d": [
           {
            "line": {
             "colorbar": {
              "outlinewidth": 0,
              "ticks": ""
             }
            },
            "marker": {
             "colorbar": {
              "outlinewidth": 0,
              "ticks": ""
             }
            },
            "type": "scatter3d"
           }
          ],
          "scattercarpet": [
           {
            "marker": {
             "colorbar": {
              "outlinewidth": 0,
              "ticks": ""
             }
            },
            "type": "scattercarpet"
           }
          ],
          "scattergeo": [
           {
            "marker": {
             "colorbar": {
              "outlinewidth": 0,
              "ticks": ""
             }
            },
            "type": "scattergeo"
           }
          ],
          "scattergl": [
           {
            "marker": {
             "colorbar": {
              "outlinewidth": 0,
              "ticks": ""
             }
            },
            "type": "scattergl"
           }
          ],
          "scattermapbox": [
           {
            "marker": {
             "colorbar": {
              "outlinewidth": 0,
              "ticks": ""
             }
            },
            "type": "scattermapbox"
           }
          ],
          "scatterpolar": [
           {
            "marker": {
             "colorbar": {
              "outlinewidth": 0,
              "ticks": ""
             }
            },
            "type": "scatterpolar"
           }
          ],
          "scatterpolargl": [
           {
            "marker": {
             "colorbar": {
              "outlinewidth": 0,
              "ticks": ""
             }
            },
            "type": "scatterpolargl"
           }
          ],
          "scatterternary": [
           {
            "marker": {
             "colorbar": {
              "outlinewidth": 0,
              "ticks": ""
             }
            },
            "type": "scatterternary"
           }
          ],
          "surface": [
           {
            "colorbar": {
             "outlinewidth": 0,
             "ticks": ""
            },
            "colorscale": [
             [
              0,
              "#0d0887"
             ],
             [
              0.1111111111111111,
              "#46039f"
             ],
             [
              0.2222222222222222,
              "#7201a8"
             ],
             [
              0.3333333333333333,
              "#9c179e"
             ],
             [
              0.4444444444444444,
              "#bd3786"
             ],
             [
              0.5555555555555556,
              "#d8576b"
             ],
             [
              0.6666666666666666,
              "#ed7953"
             ],
             [
              0.7777777777777778,
              "#fb9f3a"
             ],
             [
              0.8888888888888888,
              "#fdca26"
             ],
             [
              1,
              "#f0f921"
             ]
            ],
            "type": "surface"
           }
          ],
          "table": [
           {
            "cells": {
             "fill": {
              "color": "#EBF0F8"
             },
             "line": {
              "color": "white"
             }
            },
            "header": {
             "fill": {
              "color": "#C8D4E3"
             },
             "line": {
              "color": "white"
             }
            },
            "type": "table"
           }
          ]
         },
         "layout": {
          "annotationdefaults": {
           "arrowcolor": "#2a3f5f",
           "arrowhead": 0,
           "arrowwidth": 1
          },
          "autotypenumbers": "strict",
          "coloraxis": {
           "colorbar": {
            "outlinewidth": 0,
            "ticks": ""
           }
          },
          "colorscale": {
           "diverging": [
            [
             0,
             "#8e0152"
            ],
            [
             0.1,
             "#c51b7d"
            ],
            [
             0.2,
             "#de77ae"
            ],
            [
             0.3,
             "#f1b6da"
            ],
            [
             0.4,
             "#fde0ef"
            ],
            [
             0.5,
             "#f7f7f7"
            ],
            [
             0.6,
             "#e6f5d0"
            ],
            [
             0.7,
             "#b8e186"
            ],
            [
             0.8,
             "#7fbc41"
            ],
            [
             0.9,
             "#4d9221"
            ],
            [
             1,
             "#276419"
            ]
           ],
           "sequential": [
            [
             0,
             "#0d0887"
            ],
            [
             0.1111111111111111,
             "#46039f"
            ],
            [
             0.2222222222222222,
             "#7201a8"
            ],
            [
             0.3333333333333333,
             "#9c179e"
            ],
            [
             0.4444444444444444,
             "#bd3786"
            ],
            [
             0.5555555555555556,
             "#d8576b"
            ],
            [
             0.6666666666666666,
             "#ed7953"
            ],
            [
             0.7777777777777778,
             "#fb9f3a"
            ],
            [
             0.8888888888888888,
             "#fdca26"
            ],
            [
             1,
             "#f0f921"
            ]
           ],
           "sequentialminus": [
            [
             0,
             "#0d0887"
            ],
            [
             0.1111111111111111,
             "#46039f"
            ],
            [
             0.2222222222222222,
             "#7201a8"
            ],
            [
             0.3333333333333333,
             "#9c179e"
            ],
            [
             0.4444444444444444,
             "#bd3786"
            ],
            [
             0.5555555555555556,
             "#d8576b"
            ],
            [
             0.6666666666666666,
             "#ed7953"
            ],
            [
             0.7777777777777778,
             "#fb9f3a"
            ],
            [
             0.8888888888888888,
             "#fdca26"
            ],
            [
             1,
             "#f0f921"
            ]
           ]
          },
          "colorway": [
           "#636efa",
           "#EF553B",
           "#00cc96",
           "#ab63fa",
           "#FFA15A",
           "#19d3f3",
           "#FF6692",
           "#B6E880",
           "#FF97FF",
           "#FECB52"
          ],
          "font": {
           "color": "#2a3f5f"
          },
          "geo": {
           "bgcolor": "white",
           "lakecolor": "white",
           "landcolor": "#E5ECF6",
           "showlakes": true,
           "showland": true,
           "subunitcolor": "white"
          },
          "hoverlabel": {
           "align": "left"
          },
          "hovermode": "closest",
          "mapbox": {
           "style": "light"
          },
          "paper_bgcolor": "white",
          "plot_bgcolor": "#E5ECF6",
          "polar": {
           "angularaxis": {
            "gridcolor": "white",
            "linecolor": "white",
            "ticks": ""
           },
           "bgcolor": "#E5ECF6",
           "radialaxis": {
            "gridcolor": "white",
            "linecolor": "white",
            "ticks": ""
           }
          },
          "scene": {
           "xaxis": {
            "backgroundcolor": "#E5ECF6",
            "gridcolor": "white",
            "gridwidth": 2,
            "linecolor": "white",
            "showbackground": true,
            "ticks": "",
            "zerolinecolor": "white"
           },
           "yaxis": {
            "backgroundcolor": "#E5ECF6",
            "gridcolor": "white",
            "gridwidth": 2,
            "linecolor": "white",
            "showbackground": true,
            "ticks": "",
            "zerolinecolor": "white"
           },
           "zaxis": {
            "backgroundcolor": "#E5ECF6",
            "gridcolor": "white",
            "gridwidth": 2,
            "linecolor": "white",
            "showbackground": true,
            "ticks": "",
            "zerolinecolor": "white"
           }
          },
          "shapedefaults": {
           "line": {
            "color": "#2a3f5f"
           }
          },
          "ternary": {
           "aaxis": {
            "gridcolor": "white",
            "linecolor": "white",
            "ticks": ""
           },
           "baxis": {
            "gridcolor": "white",
            "linecolor": "white",
            "ticks": ""
           },
           "bgcolor": "#E5ECF6",
           "caxis": {
            "gridcolor": "white",
            "linecolor": "white",
            "ticks": ""
           }
          },
          "title": {
           "x": 0.05
          },
          "xaxis": {
           "automargin": true,
           "gridcolor": "white",
           "linecolor": "white",
           "ticks": "",
           "title": {
            "standoff": 15
           },
           "zerolinecolor": "white",
           "zerolinewidth": 2
          },
          "yaxis": {
           "automargin": true,
           "gridcolor": "white",
           "linecolor": "white",
           "ticks": "",
           "title": {
            "standoff": 15
           },
           "zerolinecolor": "white",
           "zerolinewidth": 2
          }
         }
        },
        "title": {
         "text": "Plot of Validation Running Loss of All Models"
        },
        "width": 2000,
        "xaxis": {
         "anchor": "y",
         "domain": [
          0,
          0.2888888888888889
         ],
         "title": {
          "text": "Epochs"
         }
        },
        "xaxis10": {
         "anchor": "y10",
         "domain": [
          0,
          0.2888888888888889
         ],
         "title": {
          "text": "Epochs"
         }
        },
        "xaxis11": {
         "anchor": "y11",
         "domain": [
          0.35555555555555557,
          0.6444444444444445
         ],
         "title": {
          "text": "Epochs"
         }
        },
        "xaxis12": {
         "anchor": "y12",
         "domain": [
          0.7111111111111111,
          1
         ],
         "title": {
          "text": "Epochs"
         }
        },
        "xaxis13": {
         "anchor": "y13",
         "domain": [
          0,
          1
         ],
         "title": {
          "text": "Epochs"
         }
        },
        "xaxis2": {
         "anchor": "y2",
         "domain": [
          0.35555555555555557,
          0.6444444444444445
         ],
         "title": {
          "text": "Epochs"
         }
        },
        "xaxis3": {
         "anchor": "y3",
         "domain": [
          0.7111111111111111,
          1
         ],
         "title": {
          "text": "Epochs"
         }
        },
        "xaxis4": {
         "anchor": "y4",
         "domain": [
          0,
          0.2888888888888889
         ],
         "title": {
          "text": "Epochs"
         }
        },
        "xaxis5": {
         "anchor": "y5",
         "domain": [
          0.35555555555555557,
          0.6444444444444445
         ],
         "title": {
          "text": "Epochs"
         }
        },
        "xaxis6": {
         "anchor": "y6",
         "domain": [
          0.7111111111111111,
          1
         ],
         "title": {
          "text": "Epochs"
         }
        },
        "xaxis7": {
         "anchor": "y7",
         "domain": [
          0,
          0.2888888888888889
         ],
         "title": {
          "text": "Epochs"
         }
        },
        "xaxis8": {
         "anchor": "y8",
         "domain": [
          0.35555555555555557,
          0.6444444444444445
         ],
         "title": {
          "text": "Epochs"
         }
        },
        "xaxis9": {
         "anchor": "y9",
         "domain": [
          0.7111111111111111,
          1
         ],
         "title": {
          "text": "Epochs"
         }
        },
        "yaxis": {
         "anchor": "x",
         "domain": [
          0.88,
          1
         ],
         "title": {
          "text": "Loss"
         }
        },
        "yaxis10": {
         "anchor": "x10",
         "domain": [
          0.22,
          0.33999999999999997
         ],
         "title": {
          "text": "Loss"
         }
        },
        "yaxis11": {
         "anchor": "x11",
         "domain": [
          0.22,
          0.33999999999999997
         ],
         "title": {
          "text": "Loss"
         }
        },
        "yaxis12": {
         "anchor": "x12",
         "domain": [
          0.22,
          0.33999999999999997
         ],
         "title": {
          "text": "Loss"
         }
        },
        "yaxis13": {
         "anchor": "x13",
         "domain": [
          0,
          0.12
         ],
         "title": {
          "text": "Loss"
         }
        },
        "yaxis2": {
         "anchor": "x2",
         "domain": [
          0.88,
          1
         ],
         "title": {
          "text": "Loss"
         }
        },
        "yaxis3": {
         "anchor": "x3",
         "domain": [
          0.88,
          1
         ],
         "title": {
          "text": "Loss"
         }
        },
        "yaxis4": {
         "anchor": "x4",
         "domain": [
          0.66,
          0.78
         ],
         "title": {
          "text": "Loss"
         }
        },
        "yaxis5": {
         "anchor": "x5",
         "domain": [
          0.66,
          0.78
         ],
         "title": {
          "text": "Loss"
         }
        },
        "yaxis6": {
         "anchor": "x6",
         "domain": [
          0.66,
          0.78
         ],
         "title": {
          "text": "Loss"
         }
        },
        "yaxis7": {
         "anchor": "x7",
         "domain": [
          0.44,
          0.56
         ],
         "title": {
          "text": "Loss"
         }
        },
        "yaxis8": {
         "anchor": "x8",
         "domain": [
          0.44,
          0.56
         ],
         "title": {
          "text": "Loss"
         }
        },
        "yaxis9": {
         "anchor": "x9",
         "domain": [
          0.44,
          0.56
         ],
         "title": {
          "text": "Loss"
         }
        }
       }
      },
      "text/html": [
       "<div>                            <div id=\"f525f1e4-be21-401a-bf79-69c3094d0683\" class=\"plotly-graph-div\" style=\"height:2000px; width:2000px;\"></div>            <script type=\"text/javascript\">                require([\"plotly\"], function(Plotly) {                    window.PLOTLYENV=window.PLOTLYENV || {};                                    if (document.getElementById(\"f525f1e4-be21-401a-bf79-69c3094d0683\")) {                    Plotly.newPlot(                        \"f525f1e4-be21-401a-bf79-69c3094d0683\",                        [{\"line\":{\"width\":1},\"name\":\"VGG16 page_1 class_2_validation\",\"opacity\":0.8,\"type\":\"scatter\",\"x\":[1,2,3,4,5,6,7,8,9,10],\"xaxis\":\"x\",\"y\":[0.6044720684062866,0.5223685104506356,0.4773256411296981,0.44952596434525083,0.4479247069358826,0.4268395536002658,0.4306207556525866,0.47962195139555697,0.4340088939524832,0.4094243719606173],\"yaxis\":\"y\"},{\"line\":{\"width\":1},\"name\":\"VGG16 page_1 class_2\",\"opacity\":0.8,\"type\":\"scatter\",\"x\":[1,2,3,4,5,6,7,8,9,10],\"xaxis\":\"x13\",\"y\":[0.6044720684062866,0.5223685104506356,0.4773256411296981,0.44952596434525083,0.4479247069358826,0.4268395536002658,0.4306207556525866,0.47962195139555697,0.4340088939524832,0.4094243719606173],\"yaxis\":\"y13\"},{\"line\":{\"width\":1},\"name\":\"VGG16 page_1 class_4_validation\",\"opacity\":0.8,\"type\":\"scatter\",\"x\":[1,2,3,4,5,6,7,8,9,10],\"xaxis\":\"x2\",\"y\":[1.2987154285113018,1.2689082496506827,1.2262902534008027,1.1936566468079886,1.1687019314084737,1.1479294813814618,1.0687327091466812,1.0439107947122486,1.0253171308267686,1.0134918903169177],\"yaxis\":\"y2\"},{\"line\":{\"width\":1},\"name\":\"VGG16 page_1 class_4\",\"opacity\":0.8,\"type\":\"scatter\",\"x\":[1,2,3,4,5,6,7,8,9,10],\"xaxis\":\"x13\",\"y\":[1.2987154285113018,1.2689082496506827,1.2262902534008027,1.1936566468079886,1.1687019314084737,1.1479294813814618,1.0687327091466812,1.0439107947122486,1.0253171308267686,1.0134918903169177],\"yaxis\":\"y13\"},{\"line\":{\"width\":1},\"name\":\"VGG16 page_2 class_2_validation\",\"opacity\":0.8,\"type\":\"scatter\",\"x\":[1,2,3,4,5,6,7,8,9,10],\"xaxis\":\"x3\",\"y\":[0.6163466597738719,0.5202488734608605,0.46552064025685896,0.4317100275272415,0.41843551361844655,0.4181154364347458,0.410743640278067,0.40626048239923657,0.43082986246971855,0.4120954653620719],\"yaxis\":\"y3\"},{\"line\":{\"width\":1},\"name\":\"VGG16 page_2 class_2\",\"opacity\":0.8,\"type\":\"scatter\",\"x\":[1,2,3,4,5,6,7,8,9,10],\"xaxis\":\"x13\",\"y\":[0.6163466597738719,0.5202488734608605,0.46552064025685896,0.4317100275272415,0.41843551361844655,0.4181154364347458,0.410743640278067,0.40626048239923657,0.43082986246971855,0.4120954653620719],\"yaxis\":\"y13\"},{\"line\":{\"width\":1},\"name\":\"VGG16 page_2 class_4_validation\",\"opacity\":0.8,\"type\":\"scatter\",\"x\":[1,2,3,4,5,6,7,8,9,10],\"xaxis\":\"x4\",\"y\":[1.3077057953107925,1.2781552804651715,1.2421252036662331,1.1897564245973313,1.1635040427957262,1.1319729249817985,1.0924896272591182,1.0662587581929706,1.0418427600179399,1.0279726736886161],\"yaxis\":\"y4\"},{\"line\":{\"width\":1},\"name\":\"VGG16 page_2 class_4\",\"opacity\":0.8,\"type\":\"scatter\",\"x\":[1,2,3,4,5,6,7,8,9,10],\"xaxis\":\"x13\",\"y\":[1.3077057953107925,1.2781552804651715,1.2421252036662331,1.1897564245973313,1.1635040427957262,1.1319729249817985,1.0924896272591182,1.0662587581929706,1.0418427600179399,1.0279726736886161],\"yaxis\":\"y13\"},{\"line\":{\"width\":1},\"name\":\"VGG16 page_3 class_2_validation\",\"opacity\":0.8,\"type\":\"scatter\",\"x\":[1,2,3,4,5,6,7,8,9,10],\"xaxis\":\"x5\",\"y\":[0.6378213086866198,0.5632645990451176,0.4758275184461048,0.4519549840546789,0.428837695533321,0.4282527886969702,0.42120179042929695,0.421835265258948,0.41310768783092505,0.4444303770292373],\"yaxis\":\"y5\"},{\"line\":{\"width\":1},\"name\":\"VGG16 page_3 class_2\",\"opacity\":0.8,\"type\":\"scatter\",\"x\":[1,2,3,4,5,6,7,8,9,10],\"xaxis\":\"x13\",\"y\":[0.6378213086866198,0.5632645990451176,0.4758275184461048,0.4519549840546789,0.428837695533321,0.4282527886969702,0.42120179042929695,0.421835265258948,0.41310768783092505,0.4444303770292373],\"yaxis\":\"y13\"},{\"line\":{\"width\":1},\"name\":\"VGG16 page_3 class_4_validation\",\"opacity\":0.8,\"type\":\"scatter\",\"x\":[1,2,3,4,5,6,7,8,9,10],\"xaxis\":\"x6\",\"y\":[1.2989468135720208,1.2463519541422525,1.2286999740487052,1.2188519908133006,1.088314500990368,0.9827844262123108,0.9564117164838882,0.9320464361849286,0.9459265884047463,0.9281448010035925],\"yaxis\":\"y6\"},{\"line\":{\"width\":1},\"name\":\"VGG16 page_3 class_4\",\"opacity\":0.8,\"type\":\"scatter\",\"x\":[1,2,3,4,5,6,7,8,9,10],\"xaxis\":\"x13\",\"y\":[1.2989468135720208,1.2463519541422525,1.2286999740487052,1.2188519908133006,1.088314500990368,0.9827844262123108,0.9564117164838882,0.9320464361849286,0.9459265884047463,0.9281448010035925],\"yaxis\":\"y13\"},{\"line\":{\"width\":1},\"name\":\"Eff page_1 class_2_validation\",\"opacity\":0.8,\"type\":\"scatter\",\"x\":[1,2,3,4,5,6,7,8,9,10],\"xaxis\":\"x7\",\"y\":[0.6895629038129533,0.7503687470583689,0.7343002449614661,0.7796094528834026,0.8221658286310376,0.7721810745341438,0.7074696016595476,0.6043112185455505,0.6242145993028368,0.5903707224982125],\"yaxis\":\"y7\"},{\"line\":{\"width\":1},\"name\":\"Eff page_1 class_2\",\"opacity\":0.8,\"type\":\"scatter\",\"x\":[1,2,3,4,5,6,7,8,9,10],\"xaxis\":\"x13\",\"y\":[0.6895629038129533,0.7503687470583689,0.7343002449614661,0.7796094528834026,0.8221658286310376,0.7721810745341438,0.7074696016595476,0.6043112185455505,0.6242145993028368,0.5903707224982125],\"yaxis\":\"y13\"},{\"line\":{\"width\":1},\"name\":\"Eff page_1 class_4_validation\",\"opacity\":0.8,\"type\":\"scatter\",\"x\":[1,2,3,4,5,6,7,8,9,10],\"xaxis\":\"x8\",\"y\":[1.3866484657355718,1.3828285935946873,1.397625133537111,1.4693219037283034,1.496751077118374,1.5214983392329444,1.3715804638749078,1.3820871358258382,1.371591121412459,1.3860395256110596],\"yaxis\":\"y8\"},{\"line\":{\"width\":1},\"name\":\"Eff page_1 class_4\",\"opacity\":0.8,\"type\":\"scatter\",\"x\":[1,2,3,4,5,6,7,8,9,10],\"xaxis\":\"x13\",\"y\":[1.3866484657355718,1.3828285935946873,1.397625133537111,1.4693219037283034,1.496751077118374,1.5214983392329444,1.3715804638749078,1.3820871358258382,1.371591121412459,1.3860395256110596],\"yaxis\":\"y13\"},{\"line\":{\"width\":1},\"name\":\"Eff page_2 class_2_validation\",\"opacity\":0.8,\"type\":\"scatter\",\"x\":[1,2,3,4,5,6,7,8,9,10],\"xaxis\":\"x9\",\"y\":[0.6945357003098442,0.7460546178193319,0.6885516030163992,0.6092765910001028,0.6045176172824133,0.6148058486552467,0.6218195509626752,0.6396933097214925,0.5464245256497746,0.5173411706515721],\"yaxis\":\"y9\"},{\"line\":{\"width\":1},\"name\":\"Eff page_2 class_2\",\"opacity\":0.8,\"type\":\"scatter\",\"x\":[1,2,3,4,5,6,7,8,9,10],\"xaxis\":\"x13\",\"y\":[0.6945357003098442,0.7460546178193319,0.6885516030163992,0.6092765910001028,0.6045176172824133,0.6148058486552467,0.6218195509626752,0.6396933097214925,0.5464245256497746,0.5173411706515721],\"yaxis\":\"y13\"},{\"line\":{\"width\":1},\"name\":\"Eff page_2 class_4_validation\",\"opacity\":0.8,\"type\":\"scatter\",\"x\":[1,2,3,4,5,6,7,8,9,10],\"xaxis\":\"x10\",\"y\":[1.4020150211879183,1.4029435668105172,1.3724044917310985,1.3340453203519185,1.3245493348439534,1.3669255334990367,1.2828665570985702,1.2781802491346994,1.2453276581991286,1.2341417686144511],\"yaxis\":\"y10\"},{\"line\":{\"width\":1},\"name\":\"Eff page_2 class_4\",\"opacity\":0.8,\"type\":\"scatter\",\"x\":[1,2,3,4,5,6,7,8,9,10],\"xaxis\":\"x13\",\"y\":[1.4020150211879183,1.4029435668105172,1.3724044917310985,1.3340453203519185,1.3245493348439534,1.3669255334990367,1.2828665570985702,1.2781802491346994,1.2453276581991286,1.2341417686144511],\"yaxis\":\"y13\"},{\"line\":{\"width\":1},\"name\":\"Eff page_3 class_2_validation\",\"opacity\":0.8,\"type\":\"scatter\",\"x\":[1,2,3,4,5,6,7,8,9,10],\"xaxis\":\"x11\",\"y\":[0.6657075228009904,0.6732459764821189,0.5931214130492437,0.6213241104568754,0.5550372117757797,0.5545031407049724,0.546806817821094,0.5535971777779716,0.4982610022028287,0.45890338061820896],\"yaxis\":\"y11\"},{\"line\":{\"width\":1},\"name\":\"Eff page_3 class_2\",\"opacity\":0.8,\"type\":\"scatter\",\"x\":[1,2,3,4,5,6,7,8,9,10],\"xaxis\":\"x13\",\"y\":[0.6657075228009904,0.6732459764821189,0.5931214130492437,0.6213241104568754,0.5550372117757797,0.5545031407049724,0.546806817821094,0.5535971777779716,0.4982610022028287,0.45890338061820896],\"yaxis\":\"y13\"},{\"line\":{\"width\":1},\"name\":\"Eff page_3 class_4_validation\",\"opacity\":0.8,\"type\":\"scatter\",\"x\":[1,2,3,4,5,6,7,8,9,10],\"xaxis\":\"x12\",\"y\":[1.4152823031516302,1.395201109988349,1.303764151277996,1.2715994371119,1.2769792456286293,1.2657406169459935,1.318206200826736,1.1115691986538114,1.0580891608908065,1.0401993155763263],\"yaxis\":\"y12\"},{\"line\":{\"width\":1},\"name\":\"Eff page_3 class_4\",\"opacity\":0.8,\"type\":\"scatter\",\"x\":[1,2,3,4,5,6,7,8,9,10],\"xaxis\":\"x13\",\"y\":[1.4152823031516302,1.395201109988349,1.303764151277996,1.2715994371119,1.2769792456286293,1.2657406169459935,1.318206200826736,1.1115691986538114,1.0580891608908065,1.0401993155763263],\"yaxis\":\"y13\"}],                        {\"annotations\":[{\"font\":{\"size\":16},\"showarrow\":false,\"text\":\"VGG16 page_1 class_2\",\"x\":0.14444444444444446,\"xanchor\":\"center\",\"xref\":\"paper\",\"y\":1.0,\"yanchor\":\"bottom\",\"yref\":\"paper\"},{\"font\":{\"size\":16},\"showarrow\":false,\"text\":\"VGG16 page_1 class_4\",\"x\":0.5,\"xanchor\":\"center\",\"xref\":\"paper\",\"y\":1.0,\"yanchor\":\"bottom\",\"yref\":\"paper\"},{\"font\":{\"size\":16},\"showarrow\":false,\"text\":\"VGG16 page_2 class_2\",\"x\":0.8555555555555556,\"xanchor\":\"center\",\"xref\":\"paper\",\"y\":1.0,\"yanchor\":\"bottom\",\"yref\":\"paper\"},{\"font\":{\"size\":16},\"showarrow\":false,\"text\":\"VGG16 page_2 class_4\",\"x\":0.14444444444444446,\"xanchor\":\"center\",\"xref\":\"paper\",\"y\":0.78,\"yanchor\":\"bottom\",\"yref\":\"paper\"},{\"font\":{\"size\":16},\"showarrow\":false,\"text\":\"VGG16 page_3 class_2\",\"x\":0.5,\"xanchor\":\"center\",\"xref\":\"paper\",\"y\":0.78,\"yanchor\":\"bottom\",\"yref\":\"paper\"},{\"font\":{\"size\":16},\"showarrow\":false,\"text\":\"VGG16 page_3 class_4\",\"x\":0.8555555555555556,\"xanchor\":\"center\",\"xref\":\"paper\",\"y\":0.78,\"yanchor\":\"bottom\",\"yref\":\"paper\"},{\"font\":{\"size\":16},\"showarrow\":false,\"text\":\"Eff page_1 class_2\",\"x\":0.14444444444444446,\"xanchor\":\"center\",\"xref\":\"paper\",\"y\":0.56,\"yanchor\":\"bottom\",\"yref\":\"paper\"},{\"font\":{\"size\":16},\"showarrow\":false,\"text\":\"Eff page_1 class_4\",\"x\":0.5,\"xanchor\":\"center\",\"xref\":\"paper\",\"y\":0.56,\"yanchor\":\"bottom\",\"yref\":\"paper\"},{\"font\":{\"size\":16},\"showarrow\":false,\"text\":\"Eff page_2 class_2\",\"x\":0.8555555555555556,\"xanchor\":\"center\",\"xref\":\"paper\",\"y\":0.56,\"yanchor\":\"bottom\",\"yref\":\"paper\"},{\"font\":{\"size\":16},\"showarrow\":false,\"text\":\"Eff page_2 class_4\",\"x\":0.14444444444444446,\"xanchor\":\"center\",\"xref\":\"paper\",\"y\":0.33999999999999997,\"yanchor\":\"bottom\",\"yref\":\"paper\"},{\"font\":{\"size\":16},\"showarrow\":false,\"text\":\"Eff page_3 class_2\",\"x\":0.5,\"xanchor\":\"center\",\"xref\":\"paper\",\"y\":0.33999999999999997,\"yanchor\":\"bottom\",\"yref\":\"paper\"},{\"font\":{\"size\":16},\"showarrow\":false,\"text\":\"Eff page_3 class_4\",\"x\":0.8555555555555556,\"xanchor\":\"center\",\"xref\":\"paper\",\"y\":0.33999999999999997,\"yanchor\":\"bottom\",\"yref\":\"paper\"},{\"font\":{\"size\":16},\"showarrow\":false,\"text\":\"All Validationing Losses In One Plot\",\"x\":0.5,\"xanchor\":\"center\",\"xref\":\"paper\",\"y\":0.12,\"yanchor\":\"bottom\",\"yref\":\"paper\"}],\"height\":2000,\"showlegend\":false,\"template\":{\"data\":{\"bar\":[{\"error_x\":{\"color\":\"#2a3f5f\"},\"error_y\":{\"color\":\"#2a3f5f\"},\"marker\":{\"line\":{\"color\":\"#E5ECF6\",\"width\":0.5},\"pattern\":{\"fillmode\":\"overlay\",\"size\":10,\"solidity\":0.2}},\"type\":\"bar\"}],\"barpolar\":[{\"marker\":{\"line\":{\"color\":\"#E5ECF6\",\"width\":0.5},\"pattern\":{\"fillmode\":\"overlay\",\"size\":10,\"solidity\":0.2}},\"type\":\"barpolar\"}],\"carpet\":[{\"aaxis\":{\"endlinecolor\":\"#2a3f5f\",\"gridcolor\":\"white\",\"linecolor\":\"white\",\"minorgridcolor\":\"white\",\"startlinecolor\":\"#2a3f5f\"},\"baxis\":{\"endlinecolor\":\"#2a3f5f\",\"gridcolor\":\"white\",\"linecolor\":\"white\",\"minorgridcolor\":\"white\",\"startlinecolor\":\"#2a3f5f\"},\"type\":\"carpet\"}],\"choropleth\":[{\"colorbar\":{\"outlinewidth\":0,\"ticks\":\"\"},\"type\":\"choropleth\"}],\"contour\":[{\"colorbar\":{\"outlinewidth\":0,\"ticks\":\"\"},\"colorscale\":[[0.0,\"#0d0887\"],[0.1111111111111111,\"#46039f\"],[0.2222222222222222,\"#7201a8\"],[0.3333333333333333,\"#9c179e\"],[0.4444444444444444,\"#bd3786\"],[0.5555555555555556,\"#d8576b\"],[0.6666666666666666,\"#ed7953\"],[0.7777777777777778,\"#fb9f3a\"],[0.8888888888888888,\"#fdca26\"],[1.0,\"#f0f921\"]],\"type\":\"contour\"}],\"contourcarpet\":[{\"colorbar\":{\"outlinewidth\":0,\"ticks\":\"\"},\"type\":\"contourcarpet\"}],\"heatmap\":[{\"colorbar\":{\"outlinewidth\":0,\"ticks\":\"\"},\"colorscale\":[[0.0,\"#0d0887\"],[0.1111111111111111,\"#46039f\"],[0.2222222222222222,\"#7201a8\"],[0.3333333333333333,\"#9c179e\"],[0.4444444444444444,\"#bd3786\"],[0.5555555555555556,\"#d8576b\"],[0.6666666666666666,\"#ed7953\"],[0.7777777777777778,\"#fb9f3a\"],[0.8888888888888888,\"#fdca26\"],[1.0,\"#f0f921\"]],\"type\":\"heatmap\"}],\"heatmapgl\":[{\"colorbar\":{\"outlinewidth\":0,\"ticks\":\"\"},\"colorscale\":[[0.0,\"#0d0887\"],[0.1111111111111111,\"#46039f\"],[0.2222222222222222,\"#7201a8\"],[0.3333333333333333,\"#9c179e\"],[0.4444444444444444,\"#bd3786\"],[0.5555555555555556,\"#d8576b\"],[0.6666666666666666,\"#ed7953\"],[0.7777777777777778,\"#fb9f3a\"],[0.8888888888888888,\"#fdca26\"],[1.0,\"#f0f921\"]],\"type\":\"heatmapgl\"}],\"histogram\":[{\"marker\":{\"pattern\":{\"fillmode\":\"overlay\",\"size\":10,\"solidity\":0.2}},\"type\":\"histogram\"}],\"histogram2d\":[{\"colorbar\":{\"outlinewidth\":0,\"ticks\":\"\"},\"colorscale\":[[0.0,\"#0d0887\"],[0.1111111111111111,\"#46039f\"],[0.2222222222222222,\"#7201a8\"],[0.3333333333333333,\"#9c179e\"],[0.4444444444444444,\"#bd3786\"],[0.5555555555555556,\"#d8576b\"],[0.6666666666666666,\"#ed7953\"],[0.7777777777777778,\"#fb9f3a\"],[0.8888888888888888,\"#fdca26\"],[1.0,\"#f0f921\"]],\"type\":\"histogram2d\"}],\"histogram2dcontour\":[{\"colorbar\":{\"outlinewidth\":0,\"ticks\":\"\"},\"colorscale\":[[0.0,\"#0d0887\"],[0.1111111111111111,\"#46039f\"],[0.2222222222222222,\"#7201a8\"],[0.3333333333333333,\"#9c179e\"],[0.4444444444444444,\"#bd3786\"],[0.5555555555555556,\"#d8576b\"],[0.6666666666666666,\"#ed7953\"],[0.7777777777777778,\"#fb9f3a\"],[0.8888888888888888,\"#fdca26\"],[1.0,\"#f0f921\"]],\"type\":\"histogram2dcontour\"}],\"mesh3d\":[{\"colorbar\":{\"outlinewidth\":0,\"ticks\":\"\"},\"type\":\"mesh3d\"}],\"parcoords\":[{\"line\":{\"colorbar\":{\"outlinewidth\":0,\"ticks\":\"\"}},\"type\":\"parcoords\"}],\"pie\":[{\"automargin\":true,\"type\":\"pie\"}],\"scatter\":[{\"marker\":{\"colorbar\":{\"outlinewidth\":0,\"ticks\":\"\"}},\"type\":\"scatter\"}],\"scatter3d\":[{\"line\":{\"colorbar\":{\"outlinewidth\":0,\"ticks\":\"\"}},\"marker\":{\"colorbar\":{\"outlinewidth\":0,\"ticks\":\"\"}},\"type\":\"scatter3d\"}],\"scattercarpet\":[{\"marker\":{\"colorbar\":{\"outlinewidth\":0,\"ticks\":\"\"}},\"type\":\"scattercarpet\"}],\"scattergeo\":[{\"marker\":{\"colorbar\":{\"outlinewidth\":0,\"ticks\":\"\"}},\"type\":\"scattergeo\"}],\"scattergl\":[{\"marker\":{\"colorbar\":{\"outlinewidth\":0,\"ticks\":\"\"}},\"type\":\"scattergl\"}],\"scattermapbox\":[{\"marker\":{\"colorbar\":{\"outlinewidth\":0,\"ticks\":\"\"}},\"type\":\"scattermapbox\"}],\"scatterpolar\":[{\"marker\":{\"colorbar\":{\"outlinewidth\":0,\"ticks\":\"\"}},\"type\":\"scatterpolar\"}],\"scatterpolargl\":[{\"marker\":{\"colorbar\":{\"outlinewidth\":0,\"ticks\":\"\"}},\"type\":\"scatterpolargl\"}],\"scatterternary\":[{\"marker\":{\"colorbar\":{\"outlinewidth\":0,\"ticks\":\"\"}},\"type\":\"scatterternary\"}],\"surface\":[{\"colorbar\":{\"outlinewidth\":0,\"ticks\":\"\"},\"colorscale\":[[0.0,\"#0d0887\"],[0.1111111111111111,\"#46039f\"],[0.2222222222222222,\"#7201a8\"],[0.3333333333333333,\"#9c179e\"],[0.4444444444444444,\"#bd3786\"],[0.5555555555555556,\"#d8576b\"],[0.6666666666666666,\"#ed7953\"],[0.7777777777777778,\"#fb9f3a\"],[0.8888888888888888,\"#fdca26\"],[1.0,\"#f0f921\"]],\"type\":\"surface\"}],\"table\":[{\"cells\":{\"fill\":{\"color\":\"#EBF0F8\"},\"line\":{\"color\":\"white\"}},\"header\":{\"fill\":{\"color\":\"#C8D4E3\"},\"line\":{\"color\":\"white\"}},\"type\":\"table\"}]},\"layout\":{\"annotationdefaults\":{\"arrowcolor\":\"#2a3f5f\",\"arrowhead\":0,\"arrowwidth\":1},\"autotypenumbers\":\"strict\",\"coloraxis\":{\"colorbar\":{\"outlinewidth\":0,\"ticks\":\"\"}},\"colorscale\":{\"diverging\":[[0,\"#8e0152\"],[0.1,\"#c51b7d\"],[0.2,\"#de77ae\"],[0.3,\"#f1b6da\"],[0.4,\"#fde0ef\"],[0.5,\"#f7f7f7\"],[0.6,\"#e6f5d0\"],[0.7,\"#b8e186\"],[0.8,\"#7fbc41\"],[0.9,\"#4d9221\"],[1,\"#276419\"]],\"sequential\":[[0.0,\"#0d0887\"],[0.1111111111111111,\"#46039f\"],[0.2222222222222222,\"#7201a8\"],[0.3333333333333333,\"#9c179e\"],[0.4444444444444444,\"#bd3786\"],[0.5555555555555556,\"#d8576b\"],[0.6666666666666666,\"#ed7953\"],[0.7777777777777778,\"#fb9f3a\"],[0.8888888888888888,\"#fdca26\"],[1.0,\"#f0f921\"]],\"sequentialminus\":[[0.0,\"#0d0887\"],[0.1111111111111111,\"#46039f\"],[0.2222222222222222,\"#7201a8\"],[0.3333333333333333,\"#9c179e\"],[0.4444444444444444,\"#bd3786\"],[0.5555555555555556,\"#d8576b\"],[0.6666666666666666,\"#ed7953\"],[0.7777777777777778,\"#fb9f3a\"],[0.8888888888888888,\"#fdca26\"],[1.0,\"#f0f921\"]]},\"colorway\":[\"#636efa\",\"#EF553B\",\"#00cc96\",\"#ab63fa\",\"#FFA15A\",\"#19d3f3\",\"#FF6692\",\"#B6E880\",\"#FF97FF\",\"#FECB52\"],\"font\":{\"color\":\"#2a3f5f\"},\"geo\":{\"bgcolor\":\"white\",\"lakecolor\":\"white\",\"landcolor\":\"#E5ECF6\",\"showlakes\":true,\"showland\":true,\"subunitcolor\":\"white\"},\"hoverlabel\":{\"align\":\"left\"},\"hovermode\":\"closest\",\"mapbox\":{\"style\":\"light\"},\"paper_bgcolor\":\"white\",\"plot_bgcolor\":\"#E5ECF6\",\"polar\":{\"angularaxis\":{\"gridcolor\":\"white\",\"linecolor\":\"white\",\"ticks\":\"\"},\"bgcolor\":\"#E5ECF6\",\"radialaxis\":{\"gridcolor\":\"white\",\"linecolor\":\"white\",\"ticks\":\"\"}},\"scene\":{\"xaxis\":{\"backgroundcolor\":\"#E5ECF6\",\"gridcolor\":\"white\",\"gridwidth\":2,\"linecolor\":\"white\",\"showbackground\":true,\"ticks\":\"\",\"zerolinecolor\":\"white\"},\"yaxis\":{\"backgroundcolor\":\"#E5ECF6\",\"gridcolor\":\"white\",\"gridwidth\":2,\"linecolor\":\"white\",\"showbackground\":true,\"ticks\":\"\",\"zerolinecolor\":\"white\"},\"zaxis\":{\"backgroundcolor\":\"#E5ECF6\",\"gridcolor\":\"white\",\"gridwidth\":2,\"linecolor\":\"white\",\"showbackground\":true,\"ticks\":\"\",\"zerolinecolor\":\"white\"}},\"shapedefaults\":{\"line\":{\"color\":\"#2a3f5f\"}},\"ternary\":{\"aaxis\":{\"gridcolor\":\"white\",\"linecolor\":\"white\",\"ticks\":\"\"},\"baxis\":{\"gridcolor\":\"white\",\"linecolor\":\"white\",\"ticks\":\"\"},\"bgcolor\":\"#E5ECF6\",\"caxis\":{\"gridcolor\":\"white\",\"linecolor\":\"white\",\"ticks\":\"\"}},\"title\":{\"x\":0.05},\"xaxis\":{\"automargin\":true,\"gridcolor\":\"white\",\"linecolor\":\"white\",\"ticks\":\"\",\"title\":{\"standoff\":15},\"zerolinecolor\":\"white\",\"zerolinewidth\":2},\"yaxis\":{\"automargin\":true,\"gridcolor\":\"white\",\"linecolor\":\"white\",\"ticks\":\"\",\"title\":{\"standoff\":15},\"zerolinecolor\":\"white\",\"zerolinewidth\":2}}},\"title\":{\"text\":\"Plot of Validation Running Loss of All Models\"},\"width\":2000,\"xaxis\":{\"anchor\":\"y\",\"domain\":[0.0,0.2888888888888889],\"title\":{\"text\":\"Epochs\"}},\"xaxis10\":{\"anchor\":\"y10\",\"domain\":[0.0,0.2888888888888889],\"title\":{\"text\":\"Epochs\"}},\"xaxis11\":{\"anchor\":\"y11\",\"domain\":[0.35555555555555557,0.6444444444444445],\"title\":{\"text\":\"Epochs\"}},\"xaxis12\":{\"anchor\":\"y12\",\"domain\":[0.7111111111111111,1.0],\"title\":{\"text\":\"Epochs\"}},\"xaxis13\":{\"anchor\":\"y13\",\"domain\":[0.0,1.0],\"title\":{\"text\":\"Epochs\"}},\"xaxis2\":{\"anchor\":\"y2\",\"domain\":[0.35555555555555557,0.6444444444444445],\"title\":{\"text\":\"Epochs\"}},\"xaxis3\":{\"anchor\":\"y3\",\"domain\":[0.7111111111111111,1.0],\"title\":{\"text\":\"Epochs\"}},\"xaxis4\":{\"anchor\":\"y4\",\"domain\":[0.0,0.2888888888888889],\"title\":{\"text\":\"Epochs\"}},\"xaxis5\":{\"anchor\":\"y5\",\"domain\":[0.35555555555555557,0.6444444444444445],\"title\":{\"text\":\"Epochs\"}},\"xaxis6\":{\"anchor\":\"y6\",\"domain\":[0.7111111111111111,1.0],\"title\":{\"text\":\"Epochs\"}},\"xaxis7\":{\"anchor\":\"y7\",\"domain\":[0.0,0.2888888888888889],\"title\":{\"text\":\"Epochs\"}},\"xaxis8\":{\"anchor\":\"y8\",\"domain\":[0.35555555555555557,0.6444444444444445],\"title\":{\"text\":\"Epochs\"}},\"xaxis9\":{\"anchor\":\"y9\",\"domain\":[0.7111111111111111,1.0],\"title\":{\"text\":\"Epochs\"}},\"yaxis\":{\"anchor\":\"x\",\"domain\":[0.88,1.0],\"title\":{\"text\":\"Loss\"}},\"yaxis10\":{\"anchor\":\"x10\",\"domain\":[0.22,0.33999999999999997],\"title\":{\"text\":\"Loss\"}},\"yaxis11\":{\"anchor\":\"x11\",\"domain\":[0.22,0.33999999999999997],\"title\":{\"text\":\"Loss\"}},\"yaxis12\":{\"anchor\":\"x12\",\"domain\":[0.22,0.33999999999999997],\"title\":{\"text\":\"Loss\"}},\"yaxis13\":{\"anchor\":\"x13\",\"domain\":[0.0,0.12],\"title\":{\"text\":\"Loss\"}},\"yaxis2\":{\"anchor\":\"x2\",\"domain\":[0.88,1.0],\"title\":{\"text\":\"Loss\"}},\"yaxis3\":{\"anchor\":\"x3\",\"domain\":[0.88,1.0],\"title\":{\"text\":\"Loss\"}},\"yaxis4\":{\"anchor\":\"x4\",\"domain\":[0.66,0.78],\"title\":{\"text\":\"Loss\"}},\"yaxis5\":{\"anchor\":\"x5\",\"domain\":[0.66,0.78],\"title\":{\"text\":\"Loss\"}},\"yaxis6\":{\"anchor\":\"x6\",\"domain\":[0.66,0.78],\"title\":{\"text\":\"Loss\"}},\"yaxis7\":{\"anchor\":\"x7\",\"domain\":[0.44,0.56],\"title\":{\"text\":\"Loss\"}},\"yaxis8\":{\"anchor\":\"x8\",\"domain\":[0.44,0.56],\"title\":{\"text\":\"Loss\"}},\"yaxis9\":{\"anchor\":\"x9\",\"domain\":[0.44,0.56],\"title\":{\"text\":\"Loss\"}}},                        {\"responsive\": true}                    ).then(function(){\n",
       "                            \n",
       "var gd = document.getElementById('f525f1e4-be21-401a-bf79-69c3094d0683');\n",
       "var x = new MutationObserver(function (mutations, observer) {{\n",
       "        var display = window.getComputedStyle(gd).display;\n",
       "        if (!display || display === 'none') {{\n",
       "            console.log([gd, 'removed!']);\n",
       "            Plotly.purge(gd);\n",
       "            observer.disconnect();\n",
       "        }}\n",
       "}});\n",
       "\n",
       "// Listen for the removal of the full notebook cells\n",
       "var notebookContainer = gd.closest('#notebook-container');\n",
       "if (notebookContainer) {{\n",
       "    x.observe(notebookContainer, {childList: true});\n",
       "}}\n",
       "\n",
       "// Listen for the clearing of the current output cell\n",
       "var outputEl = gd.closest('.output');\n",
       "if (outputEl) {{\n",
       "    x.observe(outputEl, {childList: true});\n",
       "}}\n",
       "\n",
       "                        })                };                });            </script>        </div>"
      ]
     },
     "metadata": {},
     "output_type": "display_data"
    }
   ],
   "source": [
    "plt = reporting_util.make_loss_plots(analytics,training_name='validation')\n",
    "plt.show()"
   ]
  },
  {
   "cell_type": "code",
   "execution_count": null,
   "metadata": {},
   "outputs": [],
   "source": []
  }
 ],
 "metadata": {
  "file_extension": ".py",
  "kernelspec": {
   "display_name": "fastai",
   "language": "python",
   "name": "fastai"
  },
  "language_info": {
   "codemirror_mode": {
    "name": "ipython",
    "version": 3
   },
   "file_extension": ".py",
   "mimetype": "text/x-python",
   "name": "python",
   "nbconvert_exporter": "python",
   "pygments_lexer": "ipython3",
   "version": "3.8.10"
  },
  "mimetype": "text/x-python",
  "name": "python",
  "npconvert_exporter": "python",
  "pygments_lexer": "ipython3",
  "version": 3
 },
 "nbformat": 4,
 "nbformat_minor": 4
}
